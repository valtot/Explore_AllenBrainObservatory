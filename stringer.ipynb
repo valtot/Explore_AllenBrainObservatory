{
 "cells": [
  {
   "cell_type": "code",
   "execution_count": null,
   "metadata": {},
   "outputs": [],
   "source": [
    "import numpy as np \n",
    "import pandas as pd\n",
    "import sklearn \n",
    "from sklearn.decomposition import PCA\n",
    "import matplotlib.pyplot as plt\n",
    "from umap import UMAP\n",
    "from scipy.ndimage import uniform_filter1d\n",
    "from scipy.stats import zscore\n",
    "from sklearn.linear_model import RidgeCV \n",
    "from sklearn.model_selection import train_test_split\n",
    "import seaborn as sns\n"
   ]
  },
  {
   "cell_type": "code",
   "execution_count": null,
   "metadata": {},
   "outputs": [],
   "source": [
    "# @title Data retrieval\n",
    "import os, requests\n",
    "\n",
    "fname = \"stringer_spontaneous.npy\"\n",
    "url = \"https://osf.io/dpqaj/download\"\n",
    "\n",
    "if not os.path.isfile(fname):\n",
    "  try:\n",
    "    r = requests.get(url)\n",
    "  except requests.ConnectionError:\n",
    "    print(\"!!! Failed to download data !!!\")\n",
    "  else:\n",
    "    if r.status_code != requests.codes.ok:\n",
    "      print(\"!!! Failed to download data !!!\")\n",
    "    else:\n",
    "      with open(fname, \"wb\") as fid:\n",
    "        fid.write(r.content)"
   ]
  },
  {
   "cell_type": "code",
   "execution_count": null,
   "metadata": {},
   "outputs": [],
   "source": [
    "dat = np.load('stringer_spontaneous.npy', allow_pickle=True).item()\n",
    "print(dat.keys())"
   ]
  },
  {
   "cell_type": "code",
   "execution_count": null,
   "metadata": {},
   "outputs": [],
   "source": [
    "\n",
    "pupil = dat['pupilArea']\n",
    "\n",
    "pupil= zscore(pupil, ddof = 1)\n",
    "pupil_t = pupil[:6000]\n",
    "pupil_p = pupil[6000:]\n",
    "plt.plot(pupil)"
   ]
  },
  {
   "cell_type": "code",
   "execution_count": null,
   "metadata": {},
   "outputs": [],
   "source": [
    "neural_data = dat['sresp']\n",
    "n_t = neural_data[:,:6000]\n",
    "n_p = neural_data[:,6000:]"
   ]
  },
  {
   "cell_type": "code",
   "execution_count": null,
   "metadata": {},
   "outputs": [],
   "source": [
    "plt.plot(neural_data[1,:])"
   ]
  },
  {
   "cell_type": "code",
   "execution_count": null,
   "metadata": {},
   "outputs": [],
   "source": [
    "train_resp, test_resp, train_p, test_p = train_test_split(n_t.T, pupil_t)"
   ]
  },
  {
   "cell_type": "code",
   "execution_count": null,
   "metadata": {},
   "outputs": [],
   "source": [
    "train_resp.shape"
   ]
  },
  {
   "cell_type": "code",
   "execution_count": null,
   "metadata": {},
   "outputs": [],
   "source": [
    "r = RidgeCV(alphas=np.arange(15), cv = 6)\n",
    "r.fit(train_resp, train_p)\n",
    "pred = r.predict(test_resp)\n",
    "r.score(test_resp, test_p)"
   ]
  },
  {
   "cell_type": "code",
   "execution_count": null,
   "metadata": {},
   "outputs": [],
   "source": [
    "import matplotlib.cm as cm\n",
    "\n",
    "\n",
    "pupils = np.hstack([r.predict(n_p.T), pupil_p]).T\n",
    "# r.predict(n_p.T).shape\n",
    "f = plt.figure(figsize=(12,4))\n",
    "# cmap = cm.prism\n",
    "# sns.reset_defaults()\n",
    "sns.lineplot(pupils.T, \n",
    "    # palette={0:'r', 1:'b'}, \n",
    "    # alpha =.7,\n",
    "    dashes=False\n",
    "    # ,label=['a','b']\n",
    "    )\n",
    "plt.legend(labels = ['actual', 'predicted'])\n",
    "plt.ylabel('Pupil area (z-score)')\n",
    "plt.xlabel('Timebins')\n",
    "f.savefig('pupil_stringer.svg', bbox_inches = 'tight')\n",
    "f.savefig('pupil_stringer.png', bbox_inches = 'tight', transparent=False)"
   ]
  },
  {
   "cell_type": "code",
   "execution_count": null,
   "metadata": {},
   "outputs": [],
   "source": [
    "pca = PCA()\n",
    "\n",
    "X = neural_data.T\n",
    "\n",
    "pca.fit_transform(X)\n",
    "scree1 = np.cumsum(pca.explained_variance_ratio_)\n",
    "\n",
    "sns.set_context('talk')\n",
    "f, ax = plt.subplots()\n",
    "\n",
    "lastv = np.where((scree1<0.76) & (scree1>0.75))[0][0]\n",
    "plt.axvline(x = lastv,ymin = 0, ymax=scree1[lastv], color = 'k', linewidth = 1, linestyle = '--', alpha = .7)\n",
    "plt.axhline( y= .75,xmin =0 ,  xmax =lastv/X.shape[0],color = 'k', linewidth = 1, linestyle = '--', alpha = .7)\n",
    "\n",
    "sns.lineplot(y= scree1,x =  np.arange(start =1,stop =  X.shape[0]+1))\n",
    "\n",
    "\n",
    "ax.set_title('Dimensionality of spontaneous activity', y = 1.05)\n",
    "ax.set_ylabel('Cumulative fraction\\nof variance explained')\n",
    "ax.set_xlabel('Number of components')\n",
    "\n",
    "ax.set_xlim([1,X.shape[0]+1])\n",
    "ax.set_ylim([0,1])\n",
    "\n",
    "plt.savefig('PCA_stringer.svg', bbox_inches = 'tight', transparent = False)"
   ]
  },
  {
   "cell_type": "code",
   "execution_count": null,
   "metadata": {},
   "outputs": [],
   "source": [
    "lastv"
   ]
  }
 ],
 "metadata": {
  "kernelspec": {
   "display_name": "Python 3",
   "language": "python",
   "name": "python3"
  },
  "language_info": {
   "codemirror_mode": {
    "name": "ipython",
    "version": 3
   },
   "file_extension": ".py",
   "mimetype": "text/x-python",
   "name": "python",
   "nbconvert_exporter": "python",
   "pygments_lexer": "ipython3",
   "version": "3.6.6"
  },
  "orig_nbformat": 4,
  "vscode": {
   "interpreter": {
    "hash": "3cf1ba2bb602e4521bf2be0d8967b0e9d85bbbc360cdb7361981f4f31776879d"
   }
  }
 },
 "nbformat": 4,
 "nbformat_minor": 2
}
