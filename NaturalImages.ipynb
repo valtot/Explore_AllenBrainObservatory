{
 "cells": [
  {
   "cell_type": "markdown",
   "metadata": {},
   "source": [
    "# Analysis of responses to naturalistic images\n",
    "------"
   ]
  },
  {
   "cell_type": "markdown",
   "metadata": {},
   "source": [
    "#### Import packages"
   ]
  },
  {
   "cell_type": "code",
   "execution_count": null,
   "metadata": {},
   "outputs": [],
   "source": [
    "from allensdk.core.brain_observatory_cache import BrainObservatoryCache, BrainObservatoryNwbDataSet\n",
    "from sklearn.decomposition import PCA\n",
    "from sklearn.manifold import TSNE\n",
    "from sklearn.ensemble import RandomForestClassifier\n",
    "from skimage.feature import hog\n",
    "from skimage import data, exposure\n",
    "from scipy.stats import zscore\n",
    "import pandas as pd \n",
    "import os\n",
    "import json\n",
    "import seaborn as sns\n",
    "import matplotlib.pyplot as plt\n",
    "import matplotlib.cm as cm\n",
    "import numpy as np\n",
    "from sklearn.metrics.pairwise import pairwise_distances\n",
    "from sklearn.cluster import AgglomerativeClustering, KMeans\n",
    "from scipy.cluster.hierarchy import dendrogram\n",
    "from sklearn.metrics import accuracy_score, r2_score\n",
    "from sklearn.model_selection import train_test_split"
   ]
  },
  {
   "cell_type": "markdown",
   "metadata": {},
   "source": [
    "#### Visualize cells"
   ]
  },
  {
   "cell_type": "code",
   "execution_count": null,
   "metadata": {},
   "outputs": [],
   "source": [
    "filter_json = \"\"\"\n",
    "[\n",
    "    {\n",
    "        \"field\": \"area\",\n",
    "        \"op\": \"in\",\n",
    "        \"value\": [\n",
    "            \"VISp\"\n",
    "        ]\n",
    "    },\n",
    "    {\n",
    "        \"field\": \"tld1_name\",\n",
    "        \"op\": \"in\",\n",
    "        \"value\": [\n",
    "            \"Slc17a7-IRES2-Cre\"\n",
    "        ]\n",
    "    }\n",
    "]\n",
    "\"\"\"\n",
    "       \n",
    "filters = json.loads(filter_json)\n",
    "boc = BrainObservatoryCache(manifest_file=\"brain_observatory/manifest.json\")\n",
    "cells = boc.get_cell_specimens(filters=filters)\n",
    "cells_df = pd.DataFrame(cells)\n",
    "cells_df.columns.unique().tolist()\n",
    "cont_ids = cells_df['experiment_container_id'].unique()\n",
    "experiments = boc.get_ophys_experiments(experiment_container_ids=cont_ids, include_failed=False, require_eye_tracking=True)\n",
    "exp_ids = [d['id'] for d in experiments]\n",
    "exp_ids = exp_ids[:20]"
   ]
  },
  {
   "cell_type": "markdown",
   "metadata": {},
   "source": [
    "#### Retrieve experiment data"
   ]
  },
  {
   "cell_type": "code",
   "execution_count": null,
   "metadata": {},
   "outputs": [],
   "source": [
    "id = exp_ids[2]\n",
    "boc.get_ophys_experiment_stimuli(id)\n"
   ]
  },
  {
   "cell_type": "code",
   "execution_count": null,
   "metadata": {},
   "outputs": [],
   "source": [
    "\n",
    "exp2 = boc.get_ophys_experiment_data(id)\n",
    "exp2.get_stimulus_epoch_table()"
   ]
  },
  {
   "cell_type": "markdown",
   "metadata": {},
   "source": [
    "#### Load stimulus template"
   ]
  },
  {
   "cell_type": "code",
   "execution_count": null,
   "metadata": {},
   "outputs": [],
   "source": [
    "ims = exp2.get_stimulus_template('natural_scenes')\n",
    "plt.imshow(ims[14,:,:])"
   ]
  },
  {
   "cell_type": "markdown",
   "metadata": {},
   "source": [
    "#### Get stimulus analysis"
   ]
  },
  {
   "cell_type": "code",
   "execution_count": null,
   "metadata": {},
   "outputs": [],
   "source": [
    "a = boc.get_ophys_experiment_analysis(id, 'natural_scenes')"
   ]
  },
  {
   "cell_type": "code",
   "execution_count": null,
   "metadata": {},
   "outputs": [],
   "source": [
    "resp = a.get_response()"
   ]
  },
  {
   "cell_type": "code",
   "execution_count": null,
   "metadata": {},
   "outputs": [],
   "source": [
    "#get_response() docstring\n",
    "\n",
    "#  ''' Computes the mean response for each cell to each stimulus\n",
    "# condition.  Return is\n",
    "# a (# scenes, # cells, 3) np.ndarray.  The final dimension\n",
    "# contains the mean response to the condition (index 0), standard\n",
    "# error of the mean of the response\n",
    "# to the condition (index 1), and the number of trials with a\n",
    "# significant (p < 0.05) response\n",
    "# to that condition (index 2).'''\n",
    "\n",
    "resp.shape\n"
   ]
  },
  {
   "cell_type": "code",
   "execution_count": null,
   "metadata": {},
   "outputs": [],
   "source": [
    "# plt.imshow(a.get_representational_similarity()[0,:,:])\n",
    "repsim = a.get_representational_similarity()\n",
    "plt.imshow(repsim[1], cmap = 'magma')\n",
    "plt.colorbar()"
   ]
  },
  {
   "cell_type": "markdown",
   "metadata": {},
   "source": [
    "#### Load stimulus data"
   ]
  },
  {
   "cell_type": "code",
   "execution_count": null,
   "metadata": {},
   "outputs": [],
   "source": [
    "stim_table = a.stim_table\n",
    "stim_table['image_set'] = np.nan\n",
    "stim_table.loc[stim_table['frame']<0, 'image_set'] = 0\n",
    "stim_table.loc[(stim_table['frame']<=57)&(stim_table['frame']>=0), 'image_set'] = 1\n",
    "stim_table.loc[(stim_table['frame']<=100)&(stim_table['frame']>=58), 'image_set'] = 2\n",
    "stim_table.loc[(stim_table['frame']<=118)&(stim_table['frame']>=101), 'image_set'] = 3\n"
   ]
  },
  {
   "cell_type": "markdown",
   "metadata": {},
   "source": [
    "## Dimensionality reduction"
   ]
  },
  {
   "cell_type": "markdown",
   "metadata": {},
   "source": [
    "#### Average trials"
   ]
  },
  {
   "cell_type": "code",
   "execution_count": null,
   "metadata": {},
   "outputs": [],
   "source": [
    "tsne = TSNE(n_components=2, random_state=42)\n",
    "\n",
    "X = zscore(resp[:,:,0], axis = 0)\n",
    "emb =tsne.fit_transform(X)\n",
    "imset = np.array([0]+[1]*58 +[2]*(101-58)+[3]*(118-101)).T\n",
    "emb_df = pd.DataFrame({'tsne1':emb[:,0],'tsne2':emb[:,1],'image_set':imset})\n",
    "sns.scatterplot(x = 'tsne1', y = 'tsne2', hue='image_set',data = emb_df, palette='viridis')"
   ]
  },
  {
   "cell_type": "code",
   "execution_count": null,
   "metadata": {},
   "outputs": [],
   "source": [
    "resp_tot = a.mean_sweep_response\n",
    "\n",
    "pca = PCA(n_components=2)\n",
    "# X = zscore(resp_tot.values, axis = 0)\n",
    "emb = pca.fit_transform(X)\n",
    "\n",
    "emb_df = pd.DataFrame({'PC1':emb[:,0], 'PC2':emb[:,1], 'image_set':imset})\n",
    "sns.scatterplot(x = 'PC1', y = 'PC2', hue='image_set',data = emb_df, palette='viridis')"
   ]
  },
  {
   "cell_type": "markdown",
   "metadata": {},
   "source": [
    "#### Single-trial responses"
   ]
  },
  {
   "cell_type": "code",
   "execution_count": null,
   "metadata": {},
   "outputs": [],
   "source": [
    "resp_tot = a.mean_sweep_response\n",
    "\n",
    "tsne = TSNE(n_components=2)\n",
    "X = zscore(resp_tot.values, axis = 0)\n",
    "emb2 = tsne.fit_transform(X)\n",
    "\n",
    "emb2_df = pd.DataFrame({'tsne1':emb2[:,0], 'tsne2':emb2[:,1], 'image_set':stim_table['frame'].values})\n",
    "sns.scatterplot(x = 'tsne1', y = 'tsne2', hue='image_set',data = emb2_df, s = 2, palette='rainbow')"
   ]
  },
  {
   "cell_type": "code",
   "execution_count": null,
   "metadata": {},
   "outputs": [],
   "source": [
    "resp_tot = a.mean_sweep_response\n",
    "\n",
    "pca = PCA(n_components=2)\n",
    "X = zscore(resp_tot.values, axis = 0)\n",
    "emb2 = pca.fit_transform(X)\n",
    "\n",
    "emb2_df = pd.DataFrame({'PC1':emb2[:,0], 'PC2':emb2[:,1], 'image_set':stim_table['frame'].values})\n",
    "sns.scatterplot(x = 'PC1', y = 'PC2', hue='image_set',data = emb2_df, s = 2, palette='rainbow')"
   ]
  },
  {
   "cell_type": "code",
   "execution_count": null,
   "metadata": {},
   "outputs": [],
   "source": [
    "from umap import UMAP\n",
    "\n",
    "\n",
    "umap = UMAP(n_components=2)\n",
    "X = zscore(resp_tot.values, axis = 0)\n",
    "emb2 = umap.fit_transform(X)\n",
    "stim_table.loc[stim_table['frame'] == 50, 'image_set'] = 5\n",
    "emb2_df = pd.DataFrame({'UMAP1':emb2[:,0], 'UMAP2':emb2[:,1], 'image_set':stim_table['image_set']})\n",
    "sns.scatterplot(x = 'UMAP1', y = 'UMAP2', hue='image_set',data = emb2_df, s = 2, palette='rainbow')"
   ]
  },
  {
   "cell_type": "markdown",
   "metadata": {},
   "source": [
    "## Analysis of natural scene similarity"
   ]
  },
  {
   "cell_type": "code",
   "execution_count": null,
   "metadata": {},
   "outputs": [],
   "source": [
    "features =[]\n",
    "sns.set_context('talk')\n",
    "for i in range(ims.shape[0]):\n",
    "    image = ims[i,:,:]\n",
    "\n",
    "    fd = hog(image, orientations=8, pixels_per_cell=(16, 16), cells_per_block=(1,1), visualize=False)\n",
    "    features.append(fd)\n",
    "figures = pd.DataFrame(features)\n",
    "r = np.corrcoef(figures.values)\n",
    "dist = pairwise_distances(figures, metric='correlation')\n"
   ]
  },
  {
   "cell_type": "code",
   "execution_count": null,
   "metadata": {},
   "outputs": [],
   "source": [
    "\n",
    "sns.heatmap(r, cbar_kws={'label': 'correlation coefficient'})\n",
    "\n",
    "plt.title('HOG descriptor correlation', y= 1.05)\n",
    "plt.xlabel('Image number')\n",
    "# plt.tick_params(size = 18)\n",
    "plt.ylabel('Image number')\n",
    "# plt.colorbar(label = 'correlation coefficient')\n",
    "plt.savefig('heatmap.svg', bbox_inches = 'tight')"
   ]
  },
  {
   "cell_type": "code",
   "execution_count": null,
   "metadata": {},
   "outputs": [],
   "source": [
    "cl = AgglomerativeClustering(n_clusters = 2, affinity='precomputed', linkage='single')\n",
    "cl.fit(dist)"
   ]
  },
  {
   "cell_type": "code",
   "execution_count": null,
   "metadata": {},
   "outputs": [],
   "source": [
    "# NOT WORKING \n",
    "# set distance_threshold to 0 and n_clusters to none\n",
    "\n",
    "\n",
    "def plot_dendrogram(model, **kwargs):\n",
    "    # Create linkage matrix and then plot the dendrogram\n",
    "\n",
    "    # create the counts of samples under each node\n",
    "    counts = np.zeros(model.children_.shape[0])\n",
    "    n_samples = len(model.labels_)\n",
    "    for i, merge in enumerate(model.children_):\n",
    "        current_count = 0\n",
    "        for child_idx in merge:\n",
    "            if child_idx < n_samples:\n",
    "                current_count += 1  # leaf node\n",
    "            else:\n",
    "                current_count += counts[child_idx - n_samples]\n",
    "        counts[i] = current_count\n",
    "\n",
    "    linkage_matrix = np.column_stack(\n",
    "        [model.children_, model.distances_, counts]\n",
    "    ).astype(float)\n",
    "\n",
    "    # Plot the corresponding dendrogram\n",
    "    dendrogram(linkage_matrix, **kwargs)\n",
    "\n",
    "# plot_dendrogram(cl)\n",
    "# # plt.xlabel(\"Number of points in node (or index of point if no parenthesis).\")\n",
    "# # plt.imshow(dist)\n",
    "# plt.show()"
   ]
  },
  {
   "cell_type": "code",
   "execution_count": null,
   "metadata": {},
   "outputs": [],
   "source": [
    "labels = cl.fit_predict(dist)\n",
    "image_map = {a:b for a, b in zip(np.arange(0,118), labels)}\n",
    "image_map[-1] = 0\n",
    "imclust = [image_map[im] for im in stim_table['frame'].values]"
   ]
  },
  {
   "cell_type": "code",
   "execution_count": null,
   "metadata": {},
   "outputs": [],
   "source": [
    "km = KMeans(n_clusters=2, random_state=42)\n",
    "\n",
    "labels2 = km.fit_predict(figures.values)\n",
    "image_map2 = {a:b for a, b in zip(np.arange(0,118), labels2)}\n",
    "image_map2[-1] = 0\n",
    "imclust2 = [image_map2[im] for im in stim_table['frame'].values]"
   ]
  },
  {
   "cell_type": "code",
   "execution_count": null,
   "metadata": {},
   "outputs": [],
   "source": [
    "resp_tot = a.mean_sweep_response\n",
    "\n",
    "tsne = TSNE(n_components=2)\n",
    "X = zscore(resp_tot.values, axis = 0)\n",
    "emb2 = tsne.fit_transform(X)\n",
    "\n",
    "emb2_df = pd.DataFrame({'tsne1':emb2[:,0], 'tsne2':emb2[:,1], 'image_set':imclust})\n",
    "sns.scatterplot(x = 'tsne1', y = 'tsne2', hue='image_set',data = emb2_df, s = 2, palette={1:'r',0:'b'})"
   ]
  },
  {
   "cell_type": "markdown",
   "metadata": {},
   "source": [
    "## Stimulus decoding\n",
    "\n",
    "Train a classifier to predict stimulus based on neural data"
   ]
  },
  {
   "cell_type": "code",
   "execution_count": null,
   "metadata": {},
   "outputs": [],
   "source": [
    "a.open_corona_plot(id)"
   ]
  },
  {
   "cell_type": "code",
   "execution_count": null,
   "metadata": {},
   "outputs": [],
   "source": [
    "# train_dff, test_dff, train_im, test_im = train_test_split(resp_tot, stim_table['image_set'],random_state=42)\n",
    "\n",
    "train_dff, test_dff, train_im, test_im = train_test_split(resp_tot,imclust2,random_state=42)"
   ]
  },
  {
   "cell_type": "code",
   "execution_count": null,
   "metadata": {},
   "outputs": [],
   "source": [
    "rf = RandomForestClassifier(n_estimators=400, n_jobs=10, random_state=42)\n",
    "rf.fit(train_dff, train_im)"
   ]
  },
  {
   "cell_type": "code",
   "execution_count": null,
   "metadata": {},
   "outputs": [],
   "source": [
    "pred = rf.predict(test_dff)\n",
    "\n",
    "accuracy_score(pred, test_im)"
   ]
  }
 ],
 "metadata": {
  "kernelspec": {
   "display_name": "Python 3.7.0 ('AllenInstituteDatasets')",
   "language": "python",
   "name": "python3"
  },
  "language_info": {
   "codemirror_mode": {
    "name": "ipython",
    "version": 3
   },
   "file_extension": ".py",
   "mimetype": "text/x-python",
   "name": "python",
   "nbconvert_exporter": "python",
   "pygments_lexer": "ipython3",
   "version": "3.7.0"
  },
  "orig_nbformat": 4,
  "vscode": {
   "interpreter": {
    "hash": "b5f77b02df432020b9e37290caad44c28a5894923980d9870989c76e7a30b517"
   }
  }
 },
 "nbformat": 4,
 "nbformat_minor": 2
}
