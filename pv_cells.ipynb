{
 "cells": [
  {
   "cell_type": "code",
   "execution_count": null,
   "metadata": {},
   "outputs": [],
   "source": [
    "import pandas as pd\n",
    "import seaborn as sns\n",
    "import numpy as np\n",
    "import sklearn\n",
    "import matplotlib.pyplot as plt\n"
   ]
  },
  {
   "cell_type": "code",
   "execution_count": null,
   "metadata": {},
   "outputs": [],
   "source": [
    "cells = pd.read_csv('pvcells.csv')"
   ]
  },
  {
   "cell_type": "code",
   "execution_count": null,
   "metadata": {},
   "outputs": [],
   "source": [
    "print(cells.columns.tolist())"
   ]
  },
  {
   "cell_type": "code",
   "execution_count": null,
   "metadata": {},
   "outputs": [],
   "source": [
    "cells1 = cells[['dsi_dg', 'g_dsi_dg', 'g_osi_dg', 'g_osi_sg', \n",
    "                'image_sel_ns', 'imaging_depth', 'osi_dg', 'osi_sg', 'p_dg', 'p_ns', 'p_run_mod_dg',\n",
    "                 'p_run_mod_ns', 'p_run_mod_sg', 'p_sg', 'peak_dff_dg', 'peak_dff_ns', 'peak_dff_sg',\n",
    "                 'pref_dir_dg', 'pref_image_ns', 'pref_ori_sg', 'pref_phase_sg', 'pref_sf_sg', 'pref_tf_dg',\n",
    "                 'reliability_dg', 'reliability_nm1_a', 'reliability_nm1_b', 'reliability_nm1_c', 'reliability_nm2',\n",
    "                 'reliability_nm3', 'reliability_ns', 'reliability_sg', 'rf_area_off_lsn', 'rf_area_on_lsn', 'rf_center_off_x_lsn',\n",
    "                 'rf_center_off_y_lsn', 'rf_center_on_x_lsn', 'rf_center_on_y_lsn', 'rf_chi2_lsn', 'rf_distance_lsn', 'rf_overlap_index_lsn',\n",
    "                 'run_mod_dg', 'run_mod_ns', 'run_mod_sg', 'sfdi_sg', 'specimen_id', 'tfdi_dg', 'time_to_peak_ns', 'time_to_peak_sg']]"
   ]
  },
  {
   "cell_type": "code",
   "execution_count": null,
   "metadata": {},
   "outputs": [],
   "source": [
    "fig, axs = plt.subplots(2,2, figsize=(9, 6))\n",
    "sns.histplot(cells1['osi_dg'], kde=True, bins = 20, ax=axs[0,0])\n",
    "sns.histplot(cells1['osi_sg'], kde=True, bins = 20, ax=axs[0,1])\n",
    "\n",
    "sns.histplot(cells1['g_osi_dg'], kde=True, bins = 20, ax=axs[1,0])\n",
    "sns.histplot(cells1['g_osi_sg'], kde=True, bins = 20, ax=axs[1,1])\n",
    "sns.despine()\n"
   ]
  },
  {
   "cell_type": "code",
   "execution_count": null,
   "metadata": {},
   "outputs": [],
   "source": [
    "fig, axs = plt.subplots(1,3, figsize=(15,4))\n",
    "sns.boxplot(\n",
    "    cells1,\n",
    "    y = 'run_mod_dg',\n",
    "    x  = 'imaging_depth',\n",
    "    palette='magma',\n",
    "    ax=axs[0], \n",
    ")\n",
    "\n",
    "sns.boxplot(\n",
    "    cells1,\n",
    "    y = 'run_mod_sg',\n",
    "    x  = 'imaging_depth',\n",
    "    palette='magma',\n",
    "    ax=axs[1]\n",
    ")\n",
    "sns.boxplot(\n",
    "    cells1,\n",
    "    y = 'run_mod_ns',\n",
    "    x  = 'imaging_depth',\n",
    "    palette='magma',\n",
    "    ax=axs[2]\n",
    "\n",
    "\n",
    ")\n"
   ]
  }
 ],
 "metadata": {
  "kernelspec": {
   "display_name": "PNN_Atlas",
   "language": "python",
   "name": "python3"
  },
  "language_info": {
   "codemirror_mode": {
    "name": "ipython",
    "version": 3
   },
   "file_extension": ".py",
   "mimetype": "text/x-python",
   "name": "python",
   "nbconvert_exporter": "python",
   "pygments_lexer": "ipython3",
   "version": "3.8.0"
  },
  "orig_nbformat": 4,
  "vscode": {
   "interpreter": {
    "hash": "4de37cbe5133c6d3664d290f7a4dcb3c55f661c58ce644a704bf339899d56472"
   }
  }
 },
 "nbformat": 4,
 "nbformat_minor": 2
}
