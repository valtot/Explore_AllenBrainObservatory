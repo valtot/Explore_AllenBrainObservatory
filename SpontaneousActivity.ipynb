{
 "cells": [
  {
   "cell_type": "markdown",
   "metadata": {},
   "source": [
    "# Analysis of spontaneous activity \n",
    "------\n",
    "Neurons in the primary visual cortex may be active also in absence of visual stimulation. Spontaneous activity is crucial during cortical development, but is also present in adulthood."
   ]
  },
  {
   "cell_type": "markdown",
   "metadata": {},
   "source": [
    "#### Import packages"
   ]
  },
  {
   "cell_type": "code",
   "execution_count": 2,
   "metadata": {},
   "outputs": [],
   "source": [
    "from allensdk.core.brain_observatory_cache import BrainObservatoryCache\n",
    "from allensdk.core.brain_observatory_nwb_data_set import BrainObservatoryNwbDataSet\n",
    "import seaborn as sns\n",
    "import matplotlib.pyplot as plt\n",
    "import pandas as pd\n",
    "import numpy as np\n",
    "import json\n",
    "import math\n",
    "import os\n",
    "# import scipy\n",
    "from sklearn.manifold import TSNE\n",
    "from sklearn.decomposition import PCA\n",
    "from sklearn.linear_model import LinearRegression, Ridge, Lasso\n",
    "from sklearn.preprocessing import PolynomialFeatures\n",
    "from sklearn.ensemble import RandomForestRegressor\n",
    "from sklearn.metrics import mean_squared_error, r2_score\n",
    "from sklearn.model_selection import train_test_split\n",
    "from scipy.stats import zscore, spearmanr, pearsonr\n",
    "from tqdm import tqdm\n"
   ]
  },
  {
   "cell_type": "markdown",
   "metadata": {},
   "source": [
    "#### define helper functions"
   ]
  },
  {
   "cell_type": "code",
   "execution_count": 3,
   "metadata": {},
   "outputs": [],
   "source": [
    "def find_nearest(array,value):\n",
    "    idx = np.searchsorted(array, value, side=\"left\")\n",
    "    if idx > 0 and (idx == len(array) or math.fabs(value - array[idx-1]) < math.fabs(value - array[idx])):\n",
    "        return array[idx-1]\n",
    "    else:\n",
    "        return array[idx]\n",
    "\n",
    "def nan_helper(y):\n",
    "    \"\"\"Helper to handle indices and logical indices of NaNs.\n",
    "\n",
    "    Input:\n",
    "        - y, 1d numpy array with possible NaNs\n",
    "    Output:\n",
    "        - nans, logical indices of NaNs\n",
    "        - index, a function, with signature indices= index(logical_indices),\n",
    "          to convert logical indices of NaNs to 'equivalent' indices\n",
    "    Example:\n",
    "        >>> # linear interpolation of NaNs\n",
    "        >>> nans, x= nan_helper(y)\n",
    "        >>> y[nans]= np.interp(x(nans), x(~nans), y[~nans])\n",
    "    \"\"\"\n",
    "\n",
    "    return np.isnan(y), lambda z: z.nonzero()[0]"
   ]
  },
  {
   "cell_type": "markdown",
   "metadata": {},
   "source": [
    "### Download the data"
   ]
  },
  {
   "cell_type": "markdown",
   "metadata": {},
   "source": [
    "#### Neurophysiology data: Slc17a7-IRES2-Cre driver line\n",
    "Exploring recordings from a mouse line expressing GCamP6 in excitatory neurons (recordings in VISp)"
   ]
  },
  {
   "cell_type": "code",
   "execution_count": 4,
   "metadata": {},
   "outputs": [
    {
     "data": {
      "text/html": [
       "<div>\n",
       "<style scoped>\n",
       "    .dataframe tbody tr th:only-of-type {\n",
       "        vertical-align: middle;\n",
       "    }\n",
       "\n",
       "    .dataframe tbody tr th {\n",
       "        vertical-align: top;\n",
       "    }\n",
       "\n",
       "    .dataframe thead th {\n",
       "        text-align: right;\n",
       "    }\n",
       "</style>\n",
       "<table border=\"1\" class=\"dataframe\">\n",
       "  <thead>\n",
       "    <tr style=\"text-align: right;\">\n",
       "      <th></th>\n",
       "      <th>all_stim</th>\n",
       "      <th>area</th>\n",
       "      <th>cell_specimen_id</th>\n",
       "      <th>donor_full_genotype</th>\n",
       "      <th>dsi_dg</th>\n",
       "      <th>experiment_container_id</th>\n",
       "      <th>failed_experiment_container</th>\n",
       "      <th>g_dsi_dg</th>\n",
       "      <th>g_osi_dg</th>\n",
       "      <th>g_osi_sg</th>\n",
       "      <th>...</th>\n",
       "      <th>specimen_id</th>\n",
       "      <th>tfdi_dg</th>\n",
       "      <th>time_to_peak_ns</th>\n",
       "      <th>time_to_peak_sg</th>\n",
       "      <th>tld1_id</th>\n",
       "      <th>tld1_name</th>\n",
       "      <th>tld2_id</th>\n",
       "      <th>tld2_name</th>\n",
       "      <th>tlr1_id</th>\n",
       "      <th>tlr1_name</th>\n",
       "    </tr>\n",
       "  </thead>\n",
       "  <tbody>\n",
       "    <tr>\n",
       "      <th>0</th>\n",
       "      <td>False</td>\n",
       "      <td>VISp</td>\n",
       "      <td>662221759</td>\n",
       "      <td>Slc17a7-IRES2-Cre/wt;Camk2a-tTA/wt;Ai93(TITL-G...</td>\n",
       "      <td>NaN</td>\n",
       "      <td>647155120</td>\n",
       "      <td>False</td>\n",
       "      <td>NaN</td>\n",
       "      <td>NaN</td>\n",
       "      <td>NaN</td>\n",
       "      <td>...</td>\n",
       "      <td>617884009</td>\n",
       "      <td>NaN</td>\n",
       "      <td>NaN</td>\n",
       "      <td>NaN</td>\n",
       "      <td>180526080</td>\n",
       "      <td>Slc17a7-IRES2-Cre</td>\n",
       "      <td>177837320</td>\n",
       "      <td>Camk2a-tTA</td>\n",
       "      <td>265943423</td>\n",
       "      <td>Ai93(TITL-GCaMP6f)</td>\n",
       "    </tr>\n",
       "    <tr>\n",
       "      <th>1</th>\n",
       "      <td>False</td>\n",
       "      <td>VISp</td>\n",
       "      <td>662221806</td>\n",
       "      <td>Slc17a7-IRES2-Cre/wt;Camk2a-tTA/wt;Ai93(TITL-G...</td>\n",
       "      <td>0.783525</td>\n",
       "      <td>647155120</td>\n",
       "      <td>False</td>\n",
       "      <td>0.708307</td>\n",
       "      <td>0.351490</td>\n",
       "      <td>1.000000</td>\n",
       "      <td>...</td>\n",
       "      <td>617884009</td>\n",
       "      <td>0.333157</td>\n",
       "      <td>0.22603</td>\n",
       "      <td>0.29061</td>\n",
       "      <td>180526080</td>\n",
       "      <td>Slc17a7-IRES2-Cre</td>\n",
       "      <td>177837320</td>\n",
       "      <td>Camk2a-tTA</td>\n",
       "      <td>265943423</td>\n",
       "      <td>Ai93(TITL-GCaMP6f)</td>\n",
       "    </tr>\n",
       "    <tr>\n",
       "      <th>2</th>\n",
       "      <td>False</td>\n",
       "      <td>VISp</td>\n",
       "      <td>662221843</td>\n",
       "      <td>Slc17a7-IRES2-Cre/wt;Camk2a-tTA/wt;Ai93(TITL-G...</td>\n",
       "      <td>NaN</td>\n",
       "      <td>647155120</td>\n",
       "      <td>False</td>\n",
       "      <td>0.213650</td>\n",
       "      <td>0.301664</td>\n",
       "      <td>NaN</td>\n",
       "      <td>...</td>\n",
       "      <td>617884009</td>\n",
       "      <td>0.265027</td>\n",
       "      <td>NaN</td>\n",
       "      <td>NaN</td>\n",
       "      <td>180526080</td>\n",
       "      <td>Slc17a7-IRES2-Cre</td>\n",
       "      <td>177837320</td>\n",
       "      <td>Camk2a-tTA</td>\n",
       "      <td>265943423</td>\n",
       "      <td>Ai93(TITL-GCaMP6f)</td>\n",
       "    </tr>\n",
       "    <tr>\n",
       "      <th>3</th>\n",
       "      <td>False</td>\n",
       "      <td>VISp</td>\n",
       "      <td>662221883</td>\n",
       "      <td>Slc17a7-IRES2-Cre/wt;Camk2a-tTA/wt;Ai93(TITL-G...</td>\n",
       "      <td>0.402791</td>\n",
       "      <td>647155120</td>\n",
       "      <td>False</td>\n",
       "      <td>0.227151</td>\n",
       "      <td>0.459935</td>\n",
       "      <td>0.341240</td>\n",
       "      <td>...</td>\n",
       "      <td>617884009</td>\n",
       "      <td>0.196362</td>\n",
       "      <td>0.29061</td>\n",
       "      <td>0.19374</td>\n",
       "      <td>180526080</td>\n",
       "      <td>Slc17a7-IRES2-Cre</td>\n",
       "      <td>177837320</td>\n",
       "      <td>Camk2a-tTA</td>\n",
       "      <td>265943423</td>\n",
       "      <td>Ai93(TITL-GCaMP6f)</td>\n",
       "    </tr>\n",
       "    <tr>\n",
       "      <th>4</th>\n",
       "      <td>False</td>\n",
       "      <td>VISp</td>\n",
       "      <td>662221929</td>\n",
       "      <td>Slc17a7-IRES2-Cre/wt;Camk2a-tTA/wt;Ai93(TITL-G...</td>\n",
       "      <td>NaN</td>\n",
       "      <td>647155120</td>\n",
       "      <td>False</td>\n",
       "      <td>NaN</td>\n",
       "      <td>NaN</td>\n",
       "      <td>NaN</td>\n",
       "      <td>...</td>\n",
       "      <td>617884009</td>\n",
       "      <td>NaN</td>\n",
       "      <td>NaN</td>\n",
       "      <td>NaN</td>\n",
       "      <td>180526080</td>\n",
       "      <td>Slc17a7-IRES2-Cre</td>\n",
       "      <td>177837320</td>\n",
       "      <td>Camk2a-tTA</td>\n",
       "      <td>265943423</td>\n",
       "      <td>Ai93(TITL-GCaMP6f)</td>\n",
       "    </tr>\n",
       "    <tr>\n",
       "      <th>...</th>\n",
       "      <td>...</td>\n",
       "      <td>...</td>\n",
       "      <td>...</td>\n",
       "      <td>...</td>\n",
       "      <td>...</td>\n",
       "      <td>...</td>\n",
       "      <td>...</td>\n",
       "      <td>...</td>\n",
       "      <td>...</td>\n",
       "      <td>...</td>\n",
       "      <td>...</td>\n",
       "      <td>...</td>\n",
       "      <td>...</td>\n",
       "      <td>...</td>\n",
       "      <td>...</td>\n",
       "      <td>...</td>\n",
       "      <td>...</td>\n",
       "      <td>...</td>\n",
       "      <td>...</td>\n",
       "      <td>...</td>\n",
       "      <td>...</td>\n",
       "    </tr>\n",
       "    <tr>\n",
       "      <th>6254</th>\n",
       "      <td>True</td>\n",
       "      <td>VISp</td>\n",
       "      <td>701733780</td>\n",
       "      <td>Slc17a7-IRES2-Cre/wt;Camk2a-tTA/wt;Ai94(TITL-G...</td>\n",
       "      <td>1.334474</td>\n",
       "      <td>688678764</td>\n",
       "      <td>False</td>\n",
       "      <td>0.249647</td>\n",
       "      <td>0.134671</td>\n",
       "      <td>0.598213</td>\n",
       "      <td>...</td>\n",
       "      <td>659422762</td>\n",
       "      <td>0.310344</td>\n",
       "      <td>0.36487</td>\n",
       "      <td>0.39804</td>\n",
       "      <td>180526080</td>\n",
       "      <td>Slc17a7-IRES2-Cre</td>\n",
       "      <td>177837320</td>\n",
       "      <td>Camk2a-tTA</td>\n",
       "      <td>310469713</td>\n",
       "      <td>Ai94(TITL-GCaMP6s)</td>\n",
       "    </tr>\n",
       "    <tr>\n",
       "      <th>6255</th>\n",
       "      <td>False</td>\n",
       "      <td>VISp</td>\n",
       "      <td>701733789</td>\n",
       "      <td>Slc17a7-IRES2-Cre/wt;Camk2a-tTA/wt;Ai94(TITL-G...</td>\n",
       "      <td>NaN</td>\n",
       "      <td>688678764</td>\n",
       "      <td>False</td>\n",
       "      <td>NaN</td>\n",
       "      <td>NaN</td>\n",
       "      <td>NaN</td>\n",
       "      <td>...</td>\n",
       "      <td>659422762</td>\n",
       "      <td>NaN</td>\n",
       "      <td>NaN</td>\n",
       "      <td>NaN</td>\n",
       "      <td>180526080</td>\n",
       "      <td>Slc17a7-IRES2-Cre</td>\n",
       "      <td>177837320</td>\n",
       "      <td>Camk2a-tTA</td>\n",
       "      <td>310469713</td>\n",
       "      <td>Ai94(TITL-GCaMP6s)</td>\n",
       "    </tr>\n",
       "    <tr>\n",
       "      <th>6256</th>\n",
       "      <td>False</td>\n",
       "      <td>VISp</td>\n",
       "      <td>701733802</td>\n",
       "      <td>Slc17a7-IRES2-Cre/wt;Camk2a-tTA/wt;Ai94(TITL-G...</td>\n",
       "      <td>0.483729</td>\n",
       "      <td>688678764</td>\n",
       "      <td>False</td>\n",
       "      <td>0.443473</td>\n",
       "      <td>0.477331</td>\n",
       "      <td>NaN</td>\n",
       "      <td>...</td>\n",
       "      <td>659422762</td>\n",
       "      <td>0.375640</td>\n",
       "      <td>NaN</td>\n",
       "      <td>NaN</td>\n",
       "      <td>180526080</td>\n",
       "      <td>Slc17a7-IRES2-Cre</td>\n",
       "      <td>177837320</td>\n",
       "      <td>Camk2a-tTA</td>\n",
       "      <td>310469713</td>\n",
       "      <td>Ai94(TITL-GCaMP6s)</td>\n",
       "    </tr>\n",
       "    <tr>\n",
       "      <th>6257</th>\n",
       "      <td>False</td>\n",
       "      <td>VISp</td>\n",
       "      <td>701733837</td>\n",
       "      <td>Slc17a7-IRES2-Cre/wt;Camk2a-tTA/wt;Ai94(TITL-G...</td>\n",
       "      <td>0.065206</td>\n",
       "      <td>688678764</td>\n",
       "      <td>False</td>\n",
       "      <td>0.101129</td>\n",
       "      <td>0.729779</td>\n",
       "      <td>NaN</td>\n",
       "      <td>...</td>\n",
       "      <td>659422762</td>\n",
       "      <td>0.366087</td>\n",
       "      <td>NaN</td>\n",
       "      <td>NaN</td>\n",
       "      <td>180526080</td>\n",
       "      <td>Slc17a7-IRES2-Cre</td>\n",
       "      <td>177837320</td>\n",
       "      <td>Camk2a-tTA</td>\n",
       "      <td>310469713</td>\n",
       "      <td>Ai94(TITL-GCaMP6s)</td>\n",
       "    </tr>\n",
       "    <tr>\n",
       "      <th>6258</th>\n",
       "      <td>False</td>\n",
       "      <td>VISp</td>\n",
       "      <td>701733853</td>\n",
       "      <td>Slc17a7-IRES2-Cre/wt;Camk2a-tTA/wt;Ai94(TITL-G...</td>\n",
       "      <td>1.354282</td>\n",
       "      <td>688678764</td>\n",
       "      <td>False</td>\n",
       "      <td>0.997903</td>\n",
       "      <td>0.992821</td>\n",
       "      <td>NaN</td>\n",
       "      <td>...</td>\n",
       "      <td>659422762</td>\n",
       "      <td>0.405683</td>\n",
       "      <td>NaN</td>\n",
       "      <td>NaN</td>\n",
       "      <td>180526080</td>\n",
       "      <td>Slc17a7-IRES2-Cre</td>\n",
       "      <td>177837320</td>\n",
       "      <td>Camk2a-tTA</td>\n",
       "      <td>310469713</td>\n",
       "      <td>Ai94(TITL-GCaMP6s)</td>\n",
       "    </tr>\n",
       "  </tbody>\n",
       "</table>\n",
       "<p>6259 rows × 60 columns</p>\n",
       "</div>"
      ],
      "text/plain": [
       "      all_stim  area  cell_specimen_id  \\\n",
       "0        False  VISp         662221759   \n",
       "1        False  VISp         662221806   \n",
       "2        False  VISp         662221843   \n",
       "3        False  VISp         662221883   \n",
       "4        False  VISp         662221929   \n",
       "...        ...   ...               ...   \n",
       "6254      True  VISp         701733780   \n",
       "6255     False  VISp         701733789   \n",
       "6256     False  VISp         701733802   \n",
       "6257     False  VISp         701733837   \n",
       "6258     False  VISp         701733853   \n",
       "\n",
       "                                    donor_full_genotype    dsi_dg  \\\n",
       "0     Slc17a7-IRES2-Cre/wt;Camk2a-tTA/wt;Ai93(TITL-G...       NaN   \n",
       "1     Slc17a7-IRES2-Cre/wt;Camk2a-tTA/wt;Ai93(TITL-G...  0.783525   \n",
       "2     Slc17a7-IRES2-Cre/wt;Camk2a-tTA/wt;Ai93(TITL-G...       NaN   \n",
       "3     Slc17a7-IRES2-Cre/wt;Camk2a-tTA/wt;Ai93(TITL-G...  0.402791   \n",
       "4     Slc17a7-IRES2-Cre/wt;Camk2a-tTA/wt;Ai93(TITL-G...       NaN   \n",
       "...                                                 ...       ...   \n",
       "6254  Slc17a7-IRES2-Cre/wt;Camk2a-tTA/wt;Ai94(TITL-G...  1.334474   \n",
       "6255  Slc17a7-IRES2-Cre/wt;Camk2a-tTA/wt;Ai94(TITL-G...       NaN   \n",
       "6256  Slc17a7-IRES2-Cre/wt;Camk2a-tTA/wt;Ai94(TITL-G...  0.483729   \n",
       "6257  Slc17a7-IRES2-Cre/wt;Camk2a-tTA/wt;Ai94(TITL-G...  0.065206   \n",
       "6258  Slc17a7-IRES2-Cre/wt;Camk2a-tTA/wt;Ai94(TITL-G...  1.354282   \n",
       "\n",
       "      experiment_container_id  failed_experiment_container  g_dsi_dg  \\\n",
       "0                   647155120                        False       NaN   \n",
       "1                   647155120                        False  0.708307   \n",
       "2                   647155120                        False  0.213650   \n",
       "3                   647155120                        False  0.227151   \n",
       "4                   647155120                        False       NaN   \n",
       "...                       ...                          ...       ...   \n",
       "6254                688678764                        False  0.249647   \n",
       "6255                688678764                        False       NaN   \n",
       "6256                688678764                        False  0.443473   \n",
       "6257                688678764                        False  0.101129   \n",
       "6258                688678764                        False  0.997903   \n",
       "\n",
       "      g_osi_dg  g_osi_sg  ...  specimen_id   tfdi_dg  time_to_peak_ns  \\\n",
       "0          NaN       NaN  ...    617884009       NaN              NaN   \n",
       "1     0.351490  1.000000  ...    617884009  0.333157          0.22603   \n",
       "2     0.301664       NaN  ...    617884009  0.265027              NaN   \n",
       "3     0.459935  0.341240  ...    617884009  0.196362          0.29061   \n",
       "4          NaN       NaN  ...    617884009       NaN              NaN   \n",
       "...        ...       ...  ...          ...       ...              ...   \n",
       "6254  0.134671  0.598213  ...    659422762  0.310344          0.36487   \n",
       "6255       NaN       NaN  ...    659422762       NaN              NaN   \n",
       "6256  0.477331       NaN  ...    659422762  0.375640              NaN   \n",
       "6257  0.729779       NaN  ...    659422762  0.366087              NaN   \n",
       "6258  0.992821       NaN  ...    659422762  0.405683              NaN   \n",
       "\n",
       "      time_to_peak_sg    tld1_id          tld1_name    tld2_id   tld2_name  \\\n",
       "0                 NaN  180526080  Slc17a7-IRES2-Cre  177837320  Camk2a-tTA   \n",
       "1             0.29061  180526080  Slc17a7-IRES2-Cre  177837320  Camk2a-tTA   \n",
       "2                 NaN  180526080  Slc17a7-IRES2-Cre  177837320  Camk2a-tTA   \n",
       "3             0.19374  180526080  Slc17a7-IRES2-Cre  177837320  Camk2a-tTA   \n",
       "4                 NaN  180526080  Slc17a7-IRES2-Cre  177837320  Camk2a-tTA   \n",
       "...               ...        ...                ...        ...         ...   \n",
       "6254          0.39804  180526080  Slc17a7-IRES2-Cre  177837320  Camk2a-tTA   \n",
       "6255              NaN  180526080  Slc17a7-IRES2-Cre  177837320  Camk2a-tTA   \n",
       "6256              NaN  180526080  Slc17a7-IRES2-Cre  177837320  Camk2a-tTA   \n",
       "6257              NaN  180526080  Slc17a7-IRES2-Cre  177837320  Camk2a-tTA   \n",
       "6258              NaN  180526080  Slc17a7-IRES2-Cre  177837320  Camk2a-tTA   \n",
       "\n",
       "        tlr1_id           tlr1_name  \n",
       "0     265943423  Ai93(TITL-GCaMP6f)  \n",
       "1     265943423  Ai93(TITL-GCaMP6f)  \n",
       "2     265943423  Ai93(TITL-GCaMP6f)  \n",
       "3     265943423  Ai93(TITL-GCaMP6f)  \n",
       "4     265943423  Ai93(TITL-GCaMP6f)  \n",
       "...         ...                 ...  \n",
       "6254  310469713  Ai94(TITL-GCaMP6s)  \n",
       "6255  310469713  Ai94(TITL-GCaMP6s)  \n",
       "6256  310469713  Ai94(TITL-GCaMP6s)  \n",
       "6257  310469713  Ai94(TITL-GCaMP6s)  \n",
       "6258  310469713  Ai94(TITL-GCaMP6s)  \n",
       "\n",
       "[6259 rows x 60 columns]"
      ]
     },
     "execution_count": 4,
     "metadata": {},
     "output_type": "execute_result"
    }
   ],
   "source": [
    "filter_json = \"\"\"\n",
    "[\n",
    "    {\n",
    "        \"field\": \"area\",\n",
    "        \"op\": \"in\",\n",
    "        \"value\": [\n",
    "            \"VISp\"\n",
    "        ]\n",
    "    },\n",
    "    {\n",
    "        \"field\": \"tld1_name\",\n",
    "        \"op\": \"in\",\n",
    "        \"value\": [\n",
    "            \"Slc17a7-IRES2-Cre\"\n",
    "        ]\n",
    "    }\n",
    "]\n",
    "\"\"\"\n",
    "       \n",
    "filters = json.loads(filter_json)\n",
    "boc = BrainObservatoryCache(manifest_file=\"brain_observatory/manifest.json\")\n",
    "cells = boc.get_cell_specimens(filters=filters)\n",
    "cells_df = pd.DataFrame(cells)\n",
    "cells_df"
   ]
  },
  {
   "cell_type": "code",
   "execution_count": 5,
   "metadata": {},
   "outputs": [],
   "source": [
    "cells_df.columns.unique().tolist()\n",
    "cont_ids = cells_df['experiment_container_id'].unique()\n",
    "experiments = boc.get_ophys_experiments(experiment_container_ids=cont_ids, include_failed=False, require_eye_tracking=True)\n",
    "exp_ids = [d['id'] for d in experiments]\n",
    "exp_ids = exp_ids[:20]"
   ]
  },
  {
   "cell_type": "code",
   "execution_count": null,
   "metadata": {},
   "outputs": [],
   "source": [
    "saving_dir = r'D:\\BrainObservatory\\brain_observatory\\ophys_experiment_data'\n",
    "files = os.listdir(saving_dir)\n",
    "exp_ids = [int(s[:-4]) for s in files]\n",
    "exp_ids"
   ]
  },
  {
   "cell_type": "code",
   "execution_count": 9,
   "metadata": {},
   "outputs": [
    {
     "name": "stderr",
     "output_type": "stream",
     "text": [
      "100%|██████████| 20/20 [00:03<00:00,  5.92it/s]\n",
      "100%|██████████| 20/20 [00:00<00:00, 107.04it/s]\n"
     ]
    }
   ],
   "source": [
    "bad_ids = []\n",
    "for exp in tqdm(exp_ids):\n",
    "    try:\n",
    "        boc.get_ophys_pupil_data(exp,  suppress_pupil_data=False)\n",
    "        boc.get_ophys_experiment_data(exp)\n",
    "    except Exception:\n",
    "        bad_ids.append(exp)\n",
    "        print('a')\n",
    "# exp_ids = [id for id in exp_ids if id not in bad_ids]\n",
    "\n",
    "for exp in tqdm(exp_ids):\n",
    "    boc.get_ophys_experiment_data(exp)\n"
   ]
  },
  {
   "cell_type": "code",
   "execution_count": 10,
   "metadata": {},
   "outputs": [],
   "source": [
    "n =0\n",
    "\n",
    "\n",
    "id = exp_ids[n]\n",
    "exp  = boc.get_ophys_experiment_data(id)\n",
    "dff = exp.get_dff_traces()\n",
    "calcium = zscore(dff[1], axis = 1, ddof=1)\n",
    "eye = boc.get_ophys_pupil_data(id, suppress_pupil_data=False)\n",
    "stim = boc.get_ophys_experiment_stimuli(id)\n",
    "\n"
   ]
  },
  {
   "cell_type": "code",
   "execution_count": 11,
   "metadata": {},
   "outputs": [
    {
     "data": {
      "text/plain": [
       "array([[30534, 39681],\n",
       "       [89097, 98242]])"
      ]
     },
     "execution_count": 11,
     "metadata": {},
     "output_type": "execute_result"
    }
   ],
   "source": [
    "spont = exp.get_stimulus_table('spontaneous').values\n",
    "spont"
   ]
  },
  {
   "cell_type": "code",
   "execution_count": 12,
   "metadata": {},
   "outputs": [],
   "source": [
    "ts_blocks = []\n",
    "for i in range(spont.shape[1]):\n",
    "    ts_blocks.append(dff[0][spont[i,0]:spont[i,1]])\n",
    "ts = np.hstack(ts_blocks)\n"
   ]
  },
  {
   "cell_type": "code",
   "execution_count": 13,
   "metadata": {},
   "outputs": [
    {
     "data": {
      "text/html": [
       "<div>\n",
       "<style scoped>\n",
       "    .dataframe tbody tr th:only-of-type {\n",
       "        vertical-align: middle;\n",
       "    }\n",
       "\n",
       "    .dataframe tbody tr th {\n",
       "        vertical-align: top;\n",
       "    }\n",
       "\n",
       "    .dataframe thead th {\n",
       "        text-align: right;\n",
       "    }\n",
       "</style>\n",
       "<table border=\"1\" class=\"dataframe\">\n",
       "  <thead>\n",
       "    <tr style=\"text-align: right;\">\n",
       "      <th></th>\n",
       "      <th>raw_eye_area</th>\n",
       "      <th>raw_pupil_area</th>\n",
       "      <th>raw_screen_coordinates_x_cm</th>\n",
       "      <th>raw_screen_coordinates_y_cm</th>\n",
       "      <th>raw_screen_coordinates_spherical_x_deg</th>\n",
       "      <th>raw_screen_coordinates_spherical_y_deg</th>\n",
       "      <th>filtered_eye_area</th>\n",
       "      <th>filtered_pupil_area</th>\n",
       "      <th>filtered_screen_coordinates_x_cm</th>\n",
       "      <th>filtered_screen_coordinates_y_cm</th>\n",
       "      <th>filtered_screen_coordinates_spherical_x_deg</th>\n",
       "      <th>filtered_screen_coordinates_spherical_y_deg</th>\n",
       "    </tr>\n",
       "  </thead>\n",
       "  <tbody>\n",
       "    <tr>\n",
       "      <th>989.26967</th>\n",
       "      <td>16331.800677</td>\n",
       "      <td>251.911015</td>\n",
       "      <td>15.070279</td>\n",
       "      <td>29.360308</td>\n",
       "      <td>5.631626</td>\n",
       "      <td>11.076004</td>\n",
       "      <td>16331.800677</td>\n",
       "      <td>251.911015</td>\n",
       "      <td>15.070279</td>\n",
       "      <td>29.360308</td>\n",
       "      <td>5.631626</td>\n",
       "      <td>11.076004</td>\n",
       "    </tr>\n",
       "    <tr>\n",
       "      <th>989.30181</th>\n",
       "      <td>16219.501606</td>\n",
       "      <td>256.614149</td>\n",
       "      <td>15.043848</td>\n",
       "      <td>29.197786</td>\n",
       "      <td>5.622950</td>\n",
       "      <td>11.016198</td>\n",
       "      <td>16219.501606</td>\n",
       "      <td>256.614149</td>\n",
       "      <td>15.043848</td>\n",
       "      <td>29.197786</td>\n",
       "      <td>5.622950</td>\n",
       "      <td>11.016198</td>\n",
       "    </tr>\n",
       "    <tr>\n",
       "      <th>989.33655</th>\n",
       "      <td>16170.214759</td>\n",
       "      <td>260.404304</td>\n",
       "      <td>15.042225</td>\n",
       "      <td>29.368809</td>\n",
       "      <td>5.621150</td>\n",
       "      <td>11.079132</td>\n",
       "      <td>16170.214759</td>\n",
       "      <td>260.404304</td>\n",
       "      <td>15.042225</td>\n",
       "      <td>29.368809</td>\n",
       "      <td>5.621150</td>\n",
       "      <td>11.079132</td>\n",
       "    </tr>\n",
       "    <tr>\n",
       "      <th>989.36967</th>\n",
       "      <td>16264.529615</td>\n",
       "      <td>249.228901</td>\n",
       "      <td>15.613098</td>\n",
       "      <td>28.964110</td>\n",
       "      <td>5.835965</td>\n",
       "      <td>10.930164</td>\n",
       "      <td>16264.529615</td>\n",
       "      <td>249.228901</td>\n",
       "      <td>15.613098</td>\n",
       "      <td>28.964110</td>\n",
       "      <td>5.835965</td>\n",
       "      <td>10.930164</td>\n",
       "    </tr>\n",
       "    <tr>\n",
       "      <th>989.40265</th>\n",
       "      <td>16431.051611</td>\n",
       "      <td>259.019528</td>\n",
       "      <td>15.212853</td>\n",
       "      <td>28.689462</td>\n",
       "      <td>5.689271</td>\n",
       "      <td>10.828983</td>\n",
       "      <td>16431.051611</td>\n",
       "      <td>259.019528</td>\n",
       "      <td>15.212853</td>\n",
       "      <td>28.689462</td>\n",
       "      <td>5.689271</td>\n",
       "      <td>10.828983</td>\n",
       "    </tr>\n",
       "    <tr>\n",
       "      <th>...</th>\n",
       "      <td>...</td>\n",
       "      <td>...</td>\n",
       "      <td>...</td>\n",
       "      <td>...</td>\n",
       "      <td>...</td>\n",
       "      <td>...</td>\n",
       "      <td>...</td>\n",
       "      <td>...</td>\n",
       "      <td>...</td>\n",
       "      <td>...</td>\n",
       "      <td>...</td>\n",
       "      <td>...</td>\n",
       "    </tr>\n",
       "    <tr>\n",
       "      <th>3176.20668</th>\n",
       "      <td>16749.213041</td>\n",
       "      <td>246.726977</td>\n",
       "      <td>16.856393</td>\n",
       "      <td>29.252076</td>\n",
       "      <td>6.294852</td>\n",
       "      <td>11.036179</td>\n",
       "      <td>16749.213041</td>\n",
       "      <td>246.726977</td>\n",
       "      <td>16.856393</td>\n",
       "      <td>29.252076</td>\n",
       "      <td>6.294852</td>\n",
       "      <td>11.036179</td>\n",
       "    </tr>\n",
       "    <tr>\n",
       "      <th>3176.23996</th>\n",
       "      <td>16727.729802</td>\n",
       "      <td>236.073256</td>\n",
       "      <td>16.642059</td>\n",
       "      <td>29.647997</td>\n",
       "      <td>6.212365</td>\n",
       "      <td>11.181811</td>\n",
       "      <td>16727.729802</td>\n",
       "      <td>236.073256</td>\n",
       "      <td>16.642059</td>\n",
       "      <td>29.647997</td>\n",
       "      <td>6.212365</td>\n",
       "      <td>11.181811</td>\n",
       "    </tr>\n",
       "    <tr>\n",
       "      <th>3176.27325</th>\n",
       "      <td>16689.505431</td>\n",
       "      <td>231.333616</td>\n",
       "      <td>16.992390</td>\n",
       "      <td>29.663493</td>\n",
       "      <td>6.341962</td>\n",
       "      <td>11.187508</td>\n",
       "      <td>16689.505431</td>\n",
       "      <td>231.333616</td>\n",
       "      <td>16.992390</td>\n",
       "      <td>29.663493</td>\n",
       "      <td>6.341962</td>\n",
       "      <td>11.187508</td>\n",
       "    </tr>\n",
       "    <tr>\n",
       "      <th>3176.30660</th>\n",
       "      <td>16739.976418</td>\n",
       "      <td>235.938106</td>\n",
       "      <td>16.884402</td>\n",
       "      <td>28.999684</td>\n",
       "      <td>6.307197</td>\n",
       "      <td>10.943265</td>\n",
       "      <td>16739.976418</td>\n",
       "      <td>235.938106</td>\n",
       "      <td>16.884402</td>\n",
       "      <td>28.999684</td>\n",
       "      <td>6.307197</td>\n",
       "      <td>10.943265</td>\n",
       "    </tr>\n",
       "    <tr>\n",
       "      <th>3176.33989</th>\n",
       "      <td>16901.936964</td>\n",
       "      <td>249.711528</td>\n",
       "      <td>17.072869</td>\n",
       "      <td>29.708855</td>\n",
       "      <td>6.371389</td>\n",
       "      <td>11.204184</td>\n",
       "      <td>16901.936964</td>\n",
       "      <td>249.711528</td>\n",
       "      <td>17.072869</td>\n",
       "      <td>29.708855</td>\n",
       "      <td>6.371389</td>\n",
       "      <td>11.204184</td>\n",
       "    </tr>\n",
       "  </tbody>\n",
       "</table>\n",
       "<p>17726 rows × 12 columns</p>\n",
       "</div>"
      ],
      "text/plain": [
       "            raw_eye_area  raw_pupil_area  raw_screen_coordinates_x_cm  \\\n",
       "989.26967   16331.800677      251.911015                    15.070279   \n",
       "989.30181   16219.501606      256.614149                    15.043848   \n",
       "989.33655   16170.214759      260.404304                    15.042225   \n",
       "989.36967   16264.529615      249.228901                    15.613098   \n",
       "989.40265   16431.051611      259.019528                    15.212853   \n",
       "...                  ...             ...                          ...   \n",
       "3176.20668  16749.213041      246.726977                    16.856393   \n",
       "3176.23996  16727.729802      236.073256                    16.642059   \n",
       "3176.27325  16689.505431      231.333616                    16.992390   \n",
       "3176.30660  16739.976418      235.938106                    16.884402   \n",
       "3176.33989  16901.936964      249.711528                    17.072869   \n",
       "\n",
       "            raw_screen_coordinates_y_cm  \\\n",
       "989.26967                     29.360308   \n",
       "989.30181                     29.197786   \n",
       "989.33655                     29.368809   \n",
       "989.36967                     28.964110   \n",
       "989.40265                     28.689462   \n",
       "...                                 ...   \n",
       "3176.20668                    29.252076   \n",
       "3176.23996                    29.647997   \n",
       "3176.27325                    29.663493   \n",
       "3176.30660                    28.999684   \n",
       "3176.33989                    29.708855   \n",
       "\n",
       "            raw_screen_coordinates_spherical_x_deg  \\\n",
       "989.26967                                 5.631626   \n",
       "989.30181                                 5.622950   \n",
       "989.33655                                 5.621150   \n",
       "989.36967                                 5.835965   \n",
       "989.40265                                 5.689271   \n",
       "...                                            ...   \n",
       "3176.20668                                6.294852   \n",
       "3176.23996                                6.212365   \n",
       "3176.27325                                6.341962   \n",
       "3176.30660                                6.307197   \n",
       "3176.33989                                6.371389   \n",
       "\n",
       "            raw_screen_coordinates_spherical_y_deg  filtered_eye_area  \\\n",
       "989.26967                                11.076004       16331.800677   \n",
       "989.30181                                11.016198       16219.501606   \n",
       "989.33655                                11.079132       16170.214759   \n",
       "989.36967                                10.930164       16264.529615   \n",
       "989.40265                                10.828983       16431.051611   \n",
       "...                                            ...                ...   \n",
       "3176.20668                               11.036179       16749.213041   \n",
       "3176.23996                               11.181811       16727.729802   \n",
       "3176.27325                               11.187508       16689.505431   \n",
       "3176.30660                               10.943265       16739.976418   \n",
       "3176.33989                               11.204184       16901.936964   \n",
       "\n",
       "            filtered_pupil_area  filtered_screen_coordinates_x_cm  \\\n",
       "989.26967            251.911015                         15.070279   \n",
       "989.30181            256.614149                         15.043848   \n",
       "989.33655            260.404304                         15.042225   \n",
       "989.36967            249.228901                         15.613098   \n",
       "989.40265            259.019528                         15.212853   \n",
       "...                         ...                               ...   \n",
       "3176.20668           246.726977                         16.856393   \n",
       "3176.23996           236.073256                         16.642059   \n",
       "3176.27325           231.333616                         16.992390   \n",
       "3176.30660           235.938106                         16.884402   \n",
       "3176.33989           249.711528                         17.072869   \n",
       "\n",
       "            filtered_screen_coordinates_y_cm  \\\n",
       "989.26967                          29.360308   \n",
       "989.30181                          29.197786   \n",
       "989.33655                          29.368809   \n",
       "989.36967                          28.964110   \n",
       "989.40265                          28.689462   \n",
       "...                                      ...   \n",
       "3176.20668                         29.252076   \n",
       "3176.23996                         29.647997   \n",
       "3176.27325                         29.663493   \n",
       "3176.30660                         28.999684   \n",
       "3176.33989                         29.708855   \n",
       "\n",
       "            filtered_screen_coordinates_spherical_x_deg  \\\n",
       "989.26967                                      5.631626   \n",
       "989.30181                                      5.622950   \n",
       "989.33655                                      5.621150   \n",
       "989.36967                                      5.835965   \n",
       "989.40265                                      5.689271   \n",
       "...                                                 ...   \n",
       "3176.20668                                     6.294852   \n",
       "3176.23996                                     6.212365   \n",
       "3176.27325                                     6.341962   \n",
       "3176.30660                                     6.307197   \n",
       "3176.33989                                     6.371389   \n",
       "\n",
       "            filtered_screen_coordinates_spherical_y_deg  \n",
       "989.26967                                     11.076004  \n",
       "989.30181                                     11.016198  \n",
       "989.33655                                     11.079132  \n",
       "989.36967                                     10.930164  \n",
       "989.40265                                     10.828983  \n",
       "...                                                 ...  \n",
       "3176.20668                                    11.036179  \n",
       "3176.23996                                    11.181811  \n",
       "3176.27325                                    11.187508  \n",
       "3176.30660                                    10.943265  \n",
       "3176.33989                                    11.204184  \n",
       "\n",
       "[17726 rows x 12 columns]"
      ]
     },
     "execution_count": 13,
     "metadata": {},
     "output_type": "execute_result"
    }
   ],
   "source": [
    "eye_ts_blocks =[]\n",
    "eye_sp_blocks = []\n",
    "for t in ts_blocks:\n",
    "    eye_ts_blocks = [find_nearest(eye.index.tolist(), t[0]), find_nearest(eye.index.tolist(), t[-1])]\n",
    "    eye_sp_blocks.append(eye.loc[eye_ts_blocks[0]:eye_ts_blocks[1]])\n",
    "eye_sp = pd.concat(eye_sp_blocks, axis = 0)\n",
    "eye_sp"
   ]
  },
  {
   "cell_type": "code",
   "execution_count": null,
   "metadata": {},
   "outputs": [],
   "source": [
    "pupil = []\n",
    "pupilraw = []\n",
    "for eye_df, t in zip(eye_sp_blocks, ts_blocks):\n",
    "    new_pupil = np.interp(t, eye_df.index.to_list(),  eye_df['filtered_pupil_area'])\n",
    "    nans, x= nan_helper(new_pupil)\n",
    "    new_pupil[nans]= np.interp(x(nans), x(~nans), new_pupil[~nans])\n",
    "    new_pupil_1 = new_pupil.copy()\n",
    "    new_pupil = pd.Series(new_pupil).rolling(60, min_periods=1).median().values\n",
    "\n",
    "    new_pupil = zscore(new_pupil, ddof=1, nan_policy = 'omit')\n",
    "    new_pupil_1 = zscore(new_pupil_1, ddof=1, nan_policy = 'omit')\n",
    "\n",
    "    pupil.append(new_pupil)\n",
    "    pupilraw.append(new_pupil_1)\n",
    "\n",
    "pupil = np.hstack(pupil)\n",
    "pupilraw = np.hstack(pupilraw)\n",
    "\n"
   ]
  },
  {
   "cell_type": "code",
   "execution_count": null,
   "metadata": {},
   "outputs": [],
   "source": [
    "%matplotlib inline\n",
    "plt.figure(figsize= (22,4))\n",
    "plt.plot(pupilraw)\n",
    "plt.plot(pupil)\n",
    "\n",
    "# \n",
    "# plt.plot(eye_sp.index.tolist(), eye_sp['raw_pupil_area'])"
   ]
  },
  {
   "cell_type": "code",
   "execution_count": null,
   "metadata": {},
   "outputs": [],
   "source": [
    "traces =[]\n",
    "for i in range(spont.shape[1]):\n",
    "    traces.append(calcium[:,spont[i,0] : spont[i,-1]])\n",
    "traces = np.hstack(traces)\n"
   ]
  },
  {
   "cell_type": "code",
   "execution_count": null,
   "metadata": {},
   "outputs": [],
   "source": [
    "pca = PCA()\n",
    "\n",
    "components = pca.fit_transform(traces.T)\n",
    "scree1 = np.cumsum(pca.explained_variance_ratio_)\n",
    "\n",
    "pca.explained_variance_ratio_\n",
    "\n"
   ]
  },
  {
   "cell_type": "code",
   "execution_count": null,
   "metadata": {},
   "outputs": [],
   "source": [
    "sns.set_context('talk')\n",
    "f, ax = plt.subplots()\n",
    "\n",
    "sns.lineplot(scree1)\n",
    "\n",
    "\n",
    "ax.set_title('Dimensionality of spontaneous activity')\n",
    "ax.set_ylabel('Cumulative fraction\\nof variance explained')\n",
    "ax.set_xlabel('Number of components')"
   ]
  },
  {
   "cell_type": "code",
   "execution_count": null,
   "metadata": {},
   "outputs": [],
   "source": [
    "dff_0 = traces[:,:-500].T\n",
    "dff_1 = traces[:,-501:].T\n",
    "eye_0 = pupil[:-500]\n",
    "eye_1 = pupil[-501:]\n",
    "train_dff, test_dff, train_pupil, test_pupil = train_test_split(dff_0, eye_0, random_state=42)"
   ]
  },
  {
   "cell_type": "code",
   "execution_count": null,
   "metadata": {},
   "outputs": [],
   "source": [
    "# dff_0 = traces[:,:-500].T\n",
    "# dff_1 = traces[:,-501:].T\n",
    "# eye_0 = pupil[:-500]\n",
    "# eye_1 = pupil[-501:]\n",
    "# poly = PolynomialFeatures(degree=3, include_bias=False)\n",
    "# poly_features = poly.fit_transform(dff_0)\n",
    "# train_dff, test_dff, train_pupil, test_pupil = train_test_split(poly_features, eye_0, random_state=42)"
   ]
  },
  {
   "cell_type": "code",
   "execution_count": null,
   "metadata": {},
   "outputs": [],
   "source": [
    "lr = LinearRegression()\n",
    "\n",
    "lr.fit(train_dff, train_pupil)"
   ]
  },
  {
   "cell_type": "code",
   "execution_count": null,
   "metadata": {},
   "outputs": [],
   "source": [
    "pupil_pred = lr.predict(dff_1)\n",
    "\n",
    "mean_squared_error(eye_0,pupil_pred)"
   ]
  },
  {
   "cell_type": "code",
   "execution_count": null,
   "metadata": {},
   "outputs": [],
   "source": [
    "r2_score(eye_1,pupil_pred)"
   ]
  },
  {
   "cell_type": "code",
   "execution_count": null,
   "metadata": {},
   "outputs": [],
   "source": [
    "plt.subplots(figsize = (12,6))\n",
    "plt.plot(eye_0)\n",
    "plt.plot(pupil_pred, alpha = .4)"
   ]
  },
  {
   "cell_type": "code",
   "execution_count": null,
   "metadata": {},
   "outputs": [],
   "source": [
    "r = Ridge(alpha=10, random_state = 42)\n",
    "\n",
    "r.fit(train_dff, train_pupil)\n",
    "pupil_pred = r.predict(dff_1)\n",
    "print(r.score(test_dff, test_pupil))\n",
    "plt.plot(eye_1)\n",
    "plt.plot(pupil_pred)"
   ]
  },
  {
   "cell_type": "code",
   "execution_count": null,
   "metadata": {},
   "outputs": [],
   "source": [
    "l = Lasso(random_state = 42)\n",
    "\n",
    "l.fit(train_dff, train_pupil)\n",
    "pupil_pred = l.predict(dff_1)\n",
    "l.score(test_dff, test_pupil)"
   ]
  },
  {
   "cell_type": "code",
   "execution_count": null,
   "metadata": {},
   "outputs": [],
   "source": [
    "plt.plot(eye_1)\n",
    "plt.plot(pupil_pred)"
   ]
  },
  {
   "cell_type": "code",
   "execution_count": null,
   "metadata": {},
   "outputs": [],
   "source": [
    "rf = RandomForestRegressor(n_estimators =300, random_state = 42, oob_score = True, n_jobs  =4, verbose = True)\n",
    "\n",
    "rf.fit(train_dff, train_pupil)\n",
    "pupil_pred = rf.predict(dff_1)\n",
    "print(rf.score(test_dff, test_pupil))\n",
    "\n",
    "plt.subplots(figsize =  (12, 4))\n",
    "plt.plot(eye_1 ,linewidth = 1, alpha = .99)\n",
    "plt.plot(pupil_pred, linewidth = 1, alpha = .4)\n",
    "plt.plot(pd.Series(pupil_pred).rolling(7).median() ,linewidth = 1, alpha = .6, color = 'r')"
   ]
  },
  {
   "cell_type": "code",
   "execution_count": null,
   "metadata": {},
   "outputs": [],
   "source": [
    "pupil_pred = rf.predict(dff_0)\n",
    "print(rf.score(test_dff, test_pupil))\n",
    "\n",
    "plt.subplots(figsize =  (12, 4))\n",
    "plt.plot(eye_0 ,linewidth = 1, alpha = .99)\n",
    "plt.plot(pupil_pred, linewidth = 1, alpha = .4)\n",
    "plt.plot(pd.Series(pupil_pred).rolling(7).median() ,linewidth = 1, alpha = .6, color = 'r')"
   ]
  },
  {
   "cell_type": "code",
   "execution_count": null,
   "metadata": {},
   "outputs": [],
   "source": [
    "r, p = spearmanr(components[:,0], new_pupil)\n",
    "\n",
    "\n",
    "r**2"
   ]
  },
  {
   "cell_type": "code",
   "execution_count": null,
   "metadata": {},
   "outputs": [],
   "source": [
    "p>0.05"
   ]
  },
  {
   "cell_type": "code",
   "execution_count": null,
   "metadata": {},
   "outputs": [],
   "source": [
    "eye_xpos = np.interp(ts, eye_sp.index.to_list(),  eye_sp['filtered_screen_coordinates_spherical_x_deg'])\n",
    "nans, x= nan_helper(eye_xpos)\n",
    "eye_xpos[nans]= np.interp(x(nans), x(~nans), eye_xpos[~nans])\n",
    "eye_xpos_1 = eye_xpos.copy()\n",
    "eye_xpos = pd.Series(eye_xpos).rolling(30, min_periods=1).median().values\n",
    "\n",
    "eye_xpos = zscore(eye_xpos, ddof=1, nan_policy = 'omit')\n",
    "eye_xpos_1 = zscore(eye_xpos_1, ddof=1, nan_policy = 'omit')"
   ]
  },
  {
   "cell_type": "code",
   "execution_count": null,
   "metadata": {},
   "outputs": [],
   "source": [
    "%matplotlib inline\n",
    "plt.figure(figsize= (12,4))\n",
    "plt.plot(ts, eye_xpos_1)\n",
    "plt.plot(ts, eye_xpos)"
   ]
  },
  {
   "cell_type": "code",
   "execution_count": null,
   "metadata": {},
   "outputs": [],
   "source": [
    "eyex_0 = eye_xpos_1[:-300]\n",
    "eyex_1 = eye_xpos_1[-300:]\n",
    "train_dff, test_dff, train_x, test_x = train_test_split(dff_0, eyex_0, random_state=42)"
   ]
  },
  {
   "cell_type": "code",
   "execution_count": null,
   "metadata": {},
   "outputs": [],
   "source": [
    "r = Ridge(alpha=1, random_state = 42)\n",
    "\n",
    "r.fit(train_dff, train_x)\n",
    "x_pred = r.predict(dff_1)\n",
    "print(r.score(test_dff, test_x))\n",
    "plt.plot(eyex_1)\n",
    "plt.plot(x_pred)"
   ]
  },
  {
   "cell_type": "code",
   "execution_count": null,
   "metadata": {},
   "outputs": [],
   "source": [
    "rf = RandomForestRegressor(n_estimators =400, random_state = 42, oob_score = True, n_jobs  =12, verbose = True)\n",
    "\n",
    "rf.fit(train_dff, train_x)\n",
    "x_pred = rf.predict(dff_1)\n",
    "rf.score(test_dff, test_x)\n",
    "\n",
    "plt.subplots(figsize =  (12, 4))\n",
    "plt.plot(eyex_1 ,linewidth = 1, alpha = .99)\n",
    "plt.plot(x_pred, linewidth = 1, alpha = .4)\n",
    "plt.plot(pd.Series(x_pred).rolling(7).median() ,linewidth = 1, alpha = .6, color = 'r')"
   ]
  },
  {
   "cell_type": "code",
   "execution_count": 11,
   "metadata": {},
   "outputs": [],
   "source": [
    "speed = exp.get_running_speed()\n"
   ]
  },
  {
   "cell_type": "code",
   "execution_count": 12,
   "metadata": {},
   "outputs": [
    {
     "ename": "TypeError",
     "evalue": "only integer scalar arrays can be converted to a scalar index",
     "output_type": "error",
     "traceback": [
      "\u001b[1;31m---------------------------------------------------------------------------\u001b[0m",
      "\u001b[1;31mTypeError\u001b[0m                                 Traceback (most recent call last)",
      "\u001b[1;32m~\\AppData\\Local\\Temp\\ipykernel_6468\\4079516719.py\u001b[0m in \u001b[0;36m<module>\u001b[1;34m\u001b[0m\n\u001b[1;32m----> 1\u001b[1;33m \u001b[0mabs_speed\u001b[0m \u001b[1;33m=\u001b[0m \u001b[0mzscore\u001b[0m\u001b[1;33m(\u001b[0m\u001b[0mnp\u001b[0m\u001b[1;33m.\u001b[0m\u001b[0mabs\u001b[0m\u001b[1;33m(\u001b[0m\u001b[0mspeed\u001b[0m\u001b[1;33m[\u001b[0m\u001b[1;36m0\u001b[0m\u001b[1;33m]\u001b[0m\u001b[1;33m[\u001b[0m\u001b[0mspont\u001b[0m\u001b[1;33m[\u001b[0m\u001b[1;36m0\u001b[0m\u001b[1;33m]\u001b[0m\u001b[1;33m:\u001b[0m\u001b[0mspont\u001b[0m\u001b[1;33m[\u001b[0m\u001b[1;36m1\u001b[0m\u001b[1;33m]\u001b[0m\u001b[1;33m]\u001b[0m\u001b[1;33m)\u001b[0m\u001b[1;33m,\u001b[0m \u001b[0mddof\u001b[0m \u001b[1;33m=\u001b[0m \u001b[1;36m1\u001b[0m\u001b[1;33m)\u001b[0m\u001b[1;33m\u001b[0m\u001b[0m\n\u001b[0m\u001b[0;32m      2\u001b[0m \u001b[0mplt\u001b[0m\u001b[1;33m.\u001b[0m\u001b[0mplot\u001b[0m\u001b[1;33m(\u001b[0m\u001b[0mabs_speed\u001b[0m\u001b[1;33m)\u001b[0m\u001b[1;33m\u001b[0m\u001b[0m\n\u001b[0;32m      3\u001b[0m \u001b[0mr\u001b[0m\u001b[1;33m,\u001b[0m \u001b[0mp\u001b[0m \u001b[1;33m=\u001b[0m \u001b[0mspearmanr\u001b[0m\u001b[1;33m(\u001b[0m\u001b[0mcomponents\u001b[0m\u001b[1;33m[\u001b[0m\u001b[1;33m:\u001b[0m\u001b[1;33m,\u001b[0m\u001b[1;36m0\u001b[0m\u001b[1;33m]\u001b[0m\u001b[1;33m,\u001b[0m \u001b[0mabs_speed\u001b[0m\u001b[1;33m)\u001b[0m\u001b[1;33m\u001b[0m\u001b[0m\n",
      "\u001b[1;31mTypeError\u001b[0m: only integer scalar arrays can be converted to a scalar index"
     ]
    }
   ],
   "source": [
    "abs_speed = zscore(np.abs(speed[0][spont[0]:spont[1]]), ddof = 1)\n",
    "plt.plot(abs_speed)\n",
    "r, p = spearmanr(components[:,0], abs_speed)\n"
   ]
  },
  {
   "cell_type": "code",
   "execution_count": null,
   "metadata": {},
   "outputs": [],
   "source": [
    "speed = speed[spont[0]:spont]"
   ]
  },
  {
   "cell_type": "code",
   "execution_count": null,
   "metadata": {},
   "outputs": [],
   "source": [
    "run_0 = abs_speed[:-300]\n",
    "run_1 = abs_speed[-300:]\n",
    "train_dff, test_dff, train_run, test_run = train_test_split(dff_0, run_0, random_state=42)"
   ]
  },
  {
   "cell_type": "code",
   "execution_count": null,
   "metadata": {},
   "outputs": [],
   "source": [
    "r = Ridge(alpha=15, random_state = 42)\n",
    "\n",
    "r.fit(train_dff, train_run)\n",
    "run_pred = r.predict(dff_1)\n",
    "print(r.score(test_dff, test_run))\n",
    "plt.plot(run_1)\n",
    "plt.plot(run_pred)"
   ]
  },
  {
   "cell_type": "code",
   "execution_count": null,
   "metadata": {},
   "outputs": [],
   "source": [
    "rf = RandomForestRegressor(n_estimators =400, random_state = 42, oob_score = True, n_jobs  =12, verbose = True)\n",
    "\n",
    "rf.fit(train_dff, train_run)\n",
    "run_pred = rf.predict(dff_1)\n",
    "rf.score(test_dff, test_run)\n",
    "\n",
    "plt.subplots(figsize =  (12, 4))\n",
    "plt.plot(run_1 ,linewidth = 1, alpha = .99)\n",
    "plt.plot(run_pred, linewidth = 1, alpha = .4)\n",
    "plt.plot(pd.Series(run_pred).rolling(7).median() ,linewidth = 1, alpha = .6, color = 'r')"
   ]
  },
  {
   "cell_type": "code",
   "execution_count": 8,
   "metadata": {},
   "outputs": [
    {
     "data": {
      "text/plain": [
       "<function id(obj, /)>"
      ]
     },
     "execution_count": 8,
     "metadata": {},
     "output_type": "execute_result"
    }
   ],
   "source": [
    "id"
   ]
  },
  {
   "cell_type": "code",
   "execution_count": 98,
   "metadata": {},
   "outputs": [
    {
     "data": {
      "text/plain": [
       "(181, 127880)"
      ]
     },
     "execution_count": 98,
     "metadata": {},
     "output_type": "execute_result"
    }
   ],
   "source": [
    "dff[1].shape"
   ]
  },
  {
   "cell_type": "code",
   "execution_count": 17,
   "metadata": {},
   "outputs": [
    {
     "data": {
      "text/plain": [
       "(181, 127880)"
      ]
     },
     "execution_count": 17,
     "metadata": {},
     "output_type": "execute_result"
    }
   ],
   "source": [
    "events = boc.get_ophys_experiment_events(id)\n",
    "events.shape"
   ]
  },
  {
   "cell_type": "code",
   "execution_count": 18,
   "metadata": {},
   "outputs": [
    {
     "data": {
      "text/html": [
       "<div>\n",
       "<style scoped>\n",
       "    .dataframe tbody tr th:only-of-type {\n",
       "        vertical-align: middle;\n",
       "    }\n",
       "\n",
       "    .dataframe tbody tr th {\n",
       "        vertical-align: top;\n",
       "    }\n",
       "\n",
       "    .dataframe thead th {\n",
       "        text-align: right;\n",
       "    }\n",
       "</style>\n",
       "<table border=\"1\" class=\"dataframe\">\n",
       "  <thead>\n",
       "    <tr style=\"text-align: right;\">\n",
       "      <th></th>\n",
       "      <th>stimulus</th>\n",
       "      <th>start</th>\n",
       "      <th>end</th>\n",
       "    </tr>\n",
       "  </thead>\n",
       "  <tbody>\n",
       "    <tr>\n",
       "      <th>0</th>\n",
       "      <td>locally_sparse_noise_4deg</td>\n",
       "      <td>945</td>\n",
       "      <td>15974</td>\n",
       "    </tr>\n",
       "    <tr>\n",
       "      <th>1</th>\n",
       "      <td>locally_sparse_noise_8deg</td>\n",
       "      <td>15975</td>\n",
       "      <td>30384</td>\n",
       "    </tr>\n",
       "    <tr>\n",
       "      <th>2</th>\n",
       "      <td>spontaneous</td>\n",
       "      <td>30534</td>\n",
       "      <td>39681</td>\n",
       "    </tr>\n",
       "    <tr>\n",
       "      <th>3</th>\n",
       "      <td>natural_movie_one</td>\n",
       "      <td>39682</td>\n",
       "      <td>48976</td>\n",
       "    </tr>\n",
       "    <tr>\n",
       "      <th>4</th>\n",
       "      <td>locally_sparse_noise_4deg</td>\n",
       "      <td>49596</td>\n",
       "      <td>64624</td>\n",
       "    </tr>\n",
       "    <tr>\n",
       "      <th>5</th>\n",
       "      <td>locally_sparse_noise_8deg</td>\n",
       "      <td>64625</td>\n",
       "      <td>79032</td>\n",
       "    </tr>\n",
       "    <tr>\n",
       "      <th>6</th>\n",
       "      <td>natural_movie_two</td>\n",
       "      <td>79653</td>\n",
       "      <td>88947</td>\n",
       "    </tr>\n",
       "    <tr>\n",
       "      <th>7</th>\n",
       "      <td>spontaneous</td>\n",
       "      <td>89097</td>\n",
       "      <td>98242</td>\n",
       "    </tr>\n",
       "    <tr>\n",
       "      <th>8</th>\n",
       "      <td>locally_sparse_noise_8deg</td>\n",
       "      <td>98243</td>\n",
       "      <td>112680</td>\n",
       "    </tr>\n",
       "    <tr>\n",
       "      <th>9</th>\n",
       "      <td>locally_sparse_noise_4deg</td>\n",
       "      <td>112681</td>\n",
       "      <td>127646</td>\n",
       "    </tr>\n",
       "  </tbody>\n",
       "</table>\n",
       "</div>"
      ],
      "text/plain": [
       "                    stimulus   start     end\n",
       "0  locally_sparse_noise_4deg     945   15974\n",
       "1  locally_sparse_noise_8deg   15975   30384\n",
       "2                spontaneous   30534   39681\n",
       "3          natural_movie_one   39682   48976\n",
       "4  locally_sparse_noise_4deg   49596   64624\n",
       "5  locally_sparse_noise_8deg   64625   79032\n",
       "6          natural_movie_two   79653   88947\n",
       "7                spontaneous   89097   98242\n",
       "8  locally_sparse_noise_8deg   98243  112680\n",
       "9  locally_sparse_noise_4deg  112681  127646"
      ]
     },
     "execution_count": 18,
     "metadata": {},
     "output_type": "execute_result"
    }
   ],
   "source": [
    "exp.get_stimulus_epoch_table()"
   ]
  },
  {
   "cell_type": "code",
   "execution_count": 19,
   "metadata": {},
   "outputs": [],
   "source": [
    "events_sp =[]\n",
    "for i in range(spont.shape[1]):\n",
    "    events_sp.append(events[:,spont[i,0] : spont[i,-1]])\n",
    "events_sp = np.hstack(events_sp)\n"
   ]
  },
  {
   "cell_type": "code",
   "execution_count": 20,
   "metadata": {},
   "outputs": [
    {
     "data": {
      "text/plain": [
       "Text(0.5, 0, 'Frequency (events/s)')"
      ]
     },
     "execution_count": 20,
     "metadata": {},
     "output_type": "execute_result"
    },
    {
     "data": {
      "image/png": "[encoded data removed]",
      "text/plain": [
       "<Figure size 640x480 with 1 Axes>"
      ]
     },
     "metadata": {},
     "output_type": "display_data"
    }
   ],
   "source": [
    "import matplotlib.cm as cm\n",
    "\n",
    "cmap = cm.get_cmap('twilight')\n",
    "freq = ((events_sp>0).sum(axis = 1))/((ts_blocks[0][-1]-ts_blocks[0][0])+(ts_blocks[1][-1]-ts_blocks[1][0]))\n",
    "sns.histplot(freq, color=cmap(0.6), alpha = .8)\n",
    "\n",
    "plt.title('Frequency of spontaneous events')\n",
    "plt.xlabel('Frequency (events/s)')"
   ]
  },
  {
   "cell_type": "code",
   "execution_count": 29,
   "metadata": {},
   "outputs": [
    {
     "data": {
      "text/plain": [
       "Text(0.5, 0, 'Amplitude ($\\\\Delta$F/F)')"
      ]
     },
     "execution_count": 29,
     "metadata": {},
     "output_type": "execute_result"
    },
    {
     "data": {
      "image/png": "[encoded data removed]",
      "text/plain": [
       "<Figure size 640x480 with 1 Axes>"
      ]
     },
     "metadata": {},
     "output_type": "display_data"
    }
   ],
   "source": [
    "\n",
    "amp = events_sp.sum(axis = 1) /np.count_nonzero(events_sp, axis =1)\n",
    "\n",
    "sns.histplot(amp, color=cmap(0.3), alpha = .8)\n",
    "\n",
    "plt.title('Amplitude of spontaneous events')\n",
    "plt.xlabel('Amplitude ($\\Delta$F/F)')"
   ]
  },
  {
   "cell_type": "code",
   "execution_count": 126,
   "metadata": {},
   "outputs": [
    {
     "data": {
      "text/plain": [
       "Text(0.5, 0, 'time (ms)')"
      ]
     },
     "execution_count": 126,
     "metadata": {},
     "output_type": "execute_result"
    },
    {
     "data": {
      "image/png": "[encoded data removed]",
      "text/plain": [
       "<Figure size 700x700 with 1 Axes>"
      ]
     },
     "metadata": {},
     "output_type": "display_data"
    }
   ],
   "source": [
    "times = []\n",
    "blocks_idx = np.diff(spont)\n",
    "for i in range(events_sp.shape[0]):\n",
    "    tot_bool = events_sp[i,:]>0\n",
    "    bol1 = np.zeros(tot_bool.shape, dtype = bool)\n",
    "    bol1[:blocks_idx[0][0]] = tot_bool[:blocks_idx[0][0]]\n",
    "    bol2 = np.zeros(tot_bool.shape, dtype = bool)\n",
    "    bol2[blocks_idx[0][0]+1:] = tot_bool[blocks_idx[0][0]+1:]\n",
    "    times.append(ts[bol1])\n",
    "    times.append(ts[bol2])\n",
    "interv = [np.diff(t) for t in times]\n",
    "\n",
    "interv1 = np.hstack(interv)\n",
    "f, ax = plt.subplots(figsize=(7, 7))\n",
    "# ax.set(yscale=\"log\")\n",
    "# for intv in interv:\n",
    "#     plt.figure()\n",
    "sns.histplot(interv1, color=cmap(0.2), alpha = .9)\n",
    "\n",
    "plt.title('Inter-event interval')\n",
    "plt.xlabel('time (ms)')\n"
   ]
  },
  {
   "cell_type": "code",
   "execution_count": 120,
   "metadata": {},
   "outputs": [
    {
     "data": {
      "text/plain": [
       "36"
      ]
     },
     "execution_count": 120,
     "metadata": {},
     "output_type": "execute_result"
    }
   ],
   "source": [
    "bol2.sum()"
   ]
  },
  {
   "cell_type": "code",
   "execution_count": 125,
   "metadata": {},
   "outputs": [],
   "source": [
    "a = boc.get_ophys_experiment_data(647155122)\n",
    "a.get_stimulus_epoch_table()\n",
    "f = a.get_dff_traces()[1][:,908:19468]\n",
    "e = boc.get_ophys_experiment_events(647155122)[:,908:19468]"
   ]
  },
  {
   "cell_type": "code",
   "execution_count": 126,
   "metadata": {},
   "outputs": [
    {
     "data": {
      "text/plain": [
       "array([[0., 0., 0., ..., 0., 0., 0.],\n",
       "       [0., 0., 0., ..., 0., 0., 0.],\n",
       "       [0., 0., 0., ..., 0., 0., 0.],\n",
       "       ...,\n",
       "       [0., 0., 0., ..., 0., 0., 0.],\n",
       "       [0., 0., 0., ..., 0., 0., 0.],\n",
       "       [0., 0., 0., ..., 0., 0., 0.]])"
      ]
     },
     "execution_count": 126,
     "metadata": {},
     "output_type": "execute_result"
    }
   ],
   "source": [
    "# e = boc.get_ophys_experiment_events(647155122)\n",
    "e"
   ]
  },
  {
   "cell_type": "code",
   "execution_count": 129,
   "metadata": {},
   "outputs": [
    {
     "data": {
      "text/plain": [
       "[<matplotlib.lines.Line2D at 0x2346b587c18>]"
      ]
     },
     "execution_count": 129,
     "metadata": {},
     "output_type": "execute_result"
    },
    {
     "data": {
      "image/png": "[encoded data removed]",
      "text/plain": [
       "<Figure size 1600x300 with 1 Axes>"
      ]
     },
     "metadata": {},
     "output_type": "display_data"
    }
   ],
   "source": [
    "plt.figure(figsize=(16,3))\n",
    "\n",
    "plt.plot(e[11,1000:1800]-0.1)\n",
    "plt.plot(e[0,1000:1800]-0.1)\n",
    "plt.plot(zscore(f[11,1000:1800]))"
   ]
  },
  {
   "cell_type": "code",
   "execution_count": 132,
   "metadata": {},
   "outputs": [],
   "source": [
    "b = boc.get_ophys_experiment_analysis(647155122, 'drifting_gratings')"
   ]
  },
  {
   "cell_type": "code",
   "execution_count": 135,
   "metadata": {},
   "outputs": [
    {
     "data": {
      "text/html": [
       "<div>\n",
       "<style scoped>\n",
       "    .dataframe tbody tr th:only-of-type {\n",
       "        vertical-align: middle;\n",
       "    }\n",
       "\n",
       "    .dataframe tbody tr th {\n",
       "        vertical-align: top;\n",
       "    }\n",
       "\n",
       "    .dataframe thead th {\n",
       "        text-align: right;\n",
       "    }\n",
       "</style>\n",
       "<table border=\"1\" class=\"dataframe\">\n",
       "  <thead>\n",
       "    <tr style=\"text-align: right;\">\n",
       "      <th></th>\n",
       "      <th>stimulus</th>\n",
       "      <th>start</th>\n",
       "      <th>end</th>\n",
       "    </tr>\n",
       "  </thead>\n",
       "  <tbody>\n",
       "    <tr>\n",
       "      <th>0</th>\n",
       "      <td>static_gratings</td>\n",
       "      <td>742</td>\n",
       "      <td>15189</td>\n",
       "    </tr>\n",
       "    <tr>\n",
       "      <th>1</th>\n",
       "      <td>natural_scenes</td>\n",
       "      <td>16093</td>\n",
       "      <td>30540</td>\n",
       "    </tr>\n",
       "    <tr>\n",
       "      <th>2</th>\n",
       "      <td>spontaneous</td>\n",
       "      <td>30690</td>\n",
       "      <td>39568</td>\n",
       "    </tr>\n",
       "    <tr>\n",
       "      <th>3</th>\n",
       "      <td>natural_scenes</td>\n",
       "      <td>39569</td>\n",
       "      <td>54016</td>\n",
       "    </tr>\n",
       "    <tr>\n",
       "      <th>4</th>\n",
       "      <td>static_gratings</td>\n",
       "      <td>54919</td>\n",
       "      <td>69366</td>\n",
       "    </tr>\n",
       "    <tr>\n",
       "      <th>5</th>\n",
       "      <td>natural_movie_one</td>\n",
       "      <td>70269</td>\n",
       "      <td>79298</td>\n",
       "    </tr>\n",
       "    <tr>\n",
       "      <th>6</th>\n",
       "      <td>natural_scenes</td>\n",
       "      <td>80201</td>\n",
       "      <td>96077</td>\n",
       "    </tr>\n",
       "    <tr>\n",
       "      <th>7</th>\n",
       "      <td>static_gratings</td>\n",
       "      <td>97357</td>\n",
       "      <td>113608</td>\n",
       "    </tr>\n",
       "  </tbody>\n",
       "</table>\n",
       "</div>"
      ],
      "text/plain": [
       "            stimulus  start     end\n",
       "0    static_gratings    742   15189\n",
       "1     natural_scenes  16093   30540\n",
       "2        spontaneous  30690   39568\n",
       "3     natural_scenes  39569   54016\n",
       "4    static_gratings  54919   69366\n",
       "5  natural_movie_one  70269   79298\n",
       "6     natural_scenes  80201   96077\n",
       "7    static_gratings  97357  113608"
      ]
     },
     "execution_count": 135,
     "metadata": {},
     "output_type": "execute_result"
    }
   ],
   "source": [
    "\n",
    "boc.get_ophys_experiment_stimuli(exp_ids[2])\n",
    "exp2 = boc.get_ophys_experiment_data(exp_ids[2])\n",
    "exp2.get_stimulus_epoch_table()"
   ]
  }
 ],
 "metadata": {
  "kernelspec": {
   "display_name": "Python 3.7.0 ('allen_brain_observatory')",
   "language": "python",
   "name": "python3"
  },
  "language_info": {
   "codemirror_mode": {
    "name": "ipython",
    "version": 3
   },
   "file_extension": ".py",
   "mimetype": "text/x-python",
   "name": "python",
   "nbconvert_exporter": "python",
   "pygments_lexer": "ipython3",
   "version": "3.7.0"
  },
  "orig_nbformat": 4,
  "vscode": {
   "interpreter": {
    "hash": "76d07628a258a5e780c3bf5830cd03f6d0a4f50729a77aeb716bbf1d4c7fc83f"
   }
  }
 },
 "nbformat": 4,
 "nbformat_minor": 2
}
