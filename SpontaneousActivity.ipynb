{
 "cells": [
  {
   "cell_type": "markdown",
   "metadata": {},
   "source": [
    "# Analysis of spontaneous activity \n",
    "------\n",
    "Neurons in the primary visual cortex may be active also in absence of visual stimulation. Spontaneous activity is crucial during cortical development, but is also present in adulthood."
   ]
  },
  {
   "cell_type": "markdown",
   "metadata": {},
   "source": [
    "#### Import packages"
   ]
  },
  {
   "cell_type": "code",
   "execution_count": null,
   "metadata": {},
   "outputs": [],
   "source": [
    "from allensdk.core.brain_observatory_cache import BrainObservatoryCache\n",
    "from allensdk.core.brain_observatory_nwb_data_set import BrainObservatoryNwbDataSet\n",
    "import seaborn as sns\n",
    "import matplotlib.pyplot as plt\n",
    "import pandas as pd\n",
    "import numpy as np\n",
    "import json\n",
    "import math\n",
    "import os\n",
    "# import scipy\n",
    "from sklearn.manifold import TSNE\n",
    "from sklearn.decomposition import PCA\n",
    "from sklearn.linear_model import LinearRegression, Ridge, Lasso\n",
    "from sklearn.preprocessing import PolynomialFeatures\n",
    "from sklearn.ensemble import RandomForestRegressor\n",
    "from sklearn.metrics import mean_squared_error, r2_score\n",
    "from sklearn.model_selection import train_test_split\n",
    "from scipy.stats import zscore, spearmanr, pearsonr\n",
    "from tqdm import tqdm\n"
   ]
  },
  {
   "cell_type": "markdown",
   "metadata": {},
   "source": [
    "#### define helper functions"
   ]
  },
  {
   "cell_type": "code",
   "execution_count": null,
   "metadata": {},
   "outputs": [],
   "source": [
    "def find_nearest(array,value):\n",
    "    idx = np.searchsorted(array, value, side=\"left\")\n",
    "    if idx > 0 and (idx == len(array) or math.fabs(value - array[idx-1]) < math.fabs(value - array[idx])):\n",
    "        return array[idx-1]\n",
    "    else:\n",
    "        return array[idx]\n",
    "\n",
    "def nan_helper(y):\n",
    "    \"\"\"Helper to handle indices and logical indices of NaNs.\n",
    "\n",
    "    Input:\n",
    "        - y, 1d numpy array with possible NaNs\n",
    "    Output:\n",
    "        - nans, logical indices of NaNs\n",
    "        - index, a function, with signature indices= index(logical_indices),\n",
    "          to convert logical indices of NaNs to 'equivalent' indices\n",
    "    Example:\n",
    "        >>> # linear interpolation of NaNs\n",
    "        >>> nans, x= nan_helper(y)\n",
    "        >>> y[nans]= np.interp(x(nans), x(~nans), y[~nans])\n",
    "    \"\"\"\n",
    "\n",
    "    return np.isnan(y), lambda z: z.nonzero()[0]"
   ]
  },
  {
   "cell_type": "markdown",
   "metadata": {},
   "source": [
    "### Download the data"
   ]
  },
  {
   "cell_type": "markdown",
   "metadata": {},
   "source": [
    "#### Neurophysiology data: Slc17a7-IRES2-Cre driver line\n",
    "Exploring recordings from a mouse line expressing GCamP6 in excitatory neurons (recordings in VISp)"
   ]
  },
  {
   "cell_type": "code",
   "execution_count": null,
   "metadata": {},
   "outputs": [],
   "source": [
    "filter_json = \"\"\"\n",
    "[\n",
    "    {\n",
    "        \"field\": \"area\",\n",
    "        \"op\": \"in\",\n",
    "        \"value\": [\n",
    "            \"VISp\"\n",
    "        ]\n",
    "    },\n",
    "    {\n",
    "        \"field\": \"tld1_name\",\n",
    "        \"op\": \"in\",\n",
    "        \"value\": [\n",
    "            \"Slc17a7-IRES2-Cre\"\n",
    "        ]\n",
    "    }\n",
    "]\n",
    "\"\"\"\n",
    "       \n",
    "filters = json.loads(filter_json)\n",
    "boc = BrainObservatoryCache(manifest_file=\"brain_observatory/manifest.json\")\n",
    "cells = boc.get_cell_specimens(filters=filters)\n",
    "cells_df = pd.DataFrame(cells)\n",
    "cells_df"
   ]
  },
  {
   "cell_type": "code",
   "execution_count": null,
   "metadata": {},
   "outputs": [],
   "source": [
    "cells_df.columns.unique().tolist()\n",
    "cont_ids = cells_df['experiment_container_id'].unique()\n",
    "experiments = boc.get_ophys_experiments(experiment_container_ids=cont_ids, include_failed=False, require_eye_tracking=True)\n",
    "exp_ids = [d['id'] for d in experiments]\n",
    "exp_ids = exp_ids[:20]"
   ]
  },
  {
   "cell_type": "code",
   "execution_count": null,
   "metadata": {},
   "outputs": [],
   "source": [
    "saving_dir = r'D:\\proj_Analysis-BrainObservatory\\brain_observatory\\ophys_experiment_data'\n",
    "files = os.listdir(saving_dir)\n",
    "exp_ids = [int(s[:-4]) for s in files]\n",
    "exp_ids"
   ]
  },
  {
   "cell_type": "code",
   "execution_count": null,
   "metadata": {},
   "outputs": [],
   "source": [
    "bad_ids = []\n",
    "for exp in tqdm(exp_ids):\n",
    "    try:\n",
    "        boc.get_ophys_pupil_data(exp,  suppress_pupil_data=False)\n",
    "        boc.get_ophys_experiment_data(exp)\n",
    "    except Exception:\n",
    "        bad_ids.append(exp)\n",
    "        print('a')\n",
    "# exp_ids = [id for id in exp_ids if id not in bad_ids]\n",
    "\n",
    "for exp in tqdm(exp_ids):\n",
    "    boc.get_ophys_experiment_data(exp)\n"
   ]
  },
  {
   "cell_type": "code",
   "execution_count": null,
   "metadata": {},
   "outputs": [],
   "source": [
    "n =1\n",
    "\n",
    "\n",
    "id = exp_ids[n]\n",
    "exp  = boc.get_ophys_experiment_data(id)\n",
    "dff = exp.get_dff_traces()\n",
    "calcium = zscore(dff[1], axis = 1, ddof=1)\n",
    "eye = boc.get_ophys_pupil_data(id, suppress_pupil_data=False)\n",
    "stim = boc.get_ophys_experiment_stimuli(id)\n",
    "\n"
   ]
  },
  {
   "cell_type": "code",
   "execution_count": null,
   "metadata": {},
   "outputs": [],
   "source": [
    "spont = exp.get_stimulus_table('spontaneous').values\n",
    "spont"
   ]
  },
  {
   "cell_type": "code",
   "execution_count": null,
   "metadata": {},
   "outputs": [],
   "source": [
    "id"
   ]
  },
  {
   "cell_type": "code",
   "execution_count": null,
   "metadata": {},
   "outputs": [],
   "source": [
    "ts_blocks = []\n",
    "for i in range(spont.shape[1]):\n",
    "    ts_blocks.append(dff[0][spont[i,0]:spont[i,1]])\n",
    "ts = np.hstack(ts_blocks)\n"
   ]
  },
  {
   "cell_type": "code",
   "execution_count": null,
   "metadata": {},
   "outputs": [],
   "source": [
    "eye_ts_blocks =[]\n",
    "eye_sp_blocks = []\n",
    "for t in ts_blocks:\n",
    "    eye_ts_blocks = [find_nearest(eye.index.tolist(), t[0]), find_nearest(eye.index.tolist(), t[-1])]\n",
    "    eye_sp_blocks.append(eye.loc[eye_ts_blocks[0]:eye_ts_blocks[1]])\n",
    "eye_sp = pd.concat(eye_sp_blocks, axis = 0)\n",
    "eye_sp"
   ]
  },
  {
   "cell_type": "code",
   "execution_count": null,
   "metadata": {},
   "outputs": [],
   "source": [
    "pupil = []\n",
    "pupilraw = []\n",
    "for eye_df, t in zip(eye_sp_blocks, ts_blocks):\n",
    "    new_pupil = np.interp(t, eye_df.index.to_list(),  eye_df['filtered_pupil_area'])\n",
    "    nans, x= nan_helper(new_pupil)\n",
    "    new_pupil[nans]= np.interp(x(nans), x(~nans), new_pupil[~nans])\n",
    "    new_pupil_1 = new_pupil.copy()\n",
    "    new_pupil = pd.Series(new_pupil).rolling(60, min_periods=1).median().values\n",
    "\n",
    "    new_pupil = zscore(new_pupil, ddof=1, nan_policy = 'omit')\n",
    "    new_pupil_1 = zscore(new_pupil_1, ddof=1, nan_policy = 'omit')\n",
    "\n",
    "    pupil.append(new_pupil)\n",
    "    pupilraw.append(new_pupil_1)\n",
    "\n",
    "pupil = np.hstack(pupil)\n",
    "pupilraw = np.hstack(pupilraw)\n",
    "\n"
   ]
  },
  {
   "cell_type": "code",
   "execution_count": null,
   "metadata": {},
   "outputs": [],
   "source": [
    "%matplotlib inline\n",
    "plt.figure(figsize= (22,4))\n",
    "plt.plot(pupilraw)\n",
    "plt.plot(pupil)\n",
    "\n",
    "# \n",
    "# plt.plot(eye_sp.index.tolist(), eye_sp['raw_pupil_area'])"
   ]
  },
  {
   "cell_type": "code",
   "execution_count": null,
   "metadata": {},
   "outputs": [],
   "source": [
    "(spont[0,1]-spont[0,0])/3\n"
   ]
  },
  {
   "cell_type": "code",
   "execution_count": null,
   "metadata": {},
   "outputs": [],
   "source": [
    "traces =[]\n",
    "for i in range(spont.shape[0]):\n",
    "    traces.append(calcium[:,spont[i,0] : spont[i,-1]])\n",
    "traces = np.hstack(traces)\n"
   ]
  },
  {
   "cell_type": "code",
   "execution_count": null,
   "metadata": {},
   "outputs": [],
   "source": [
    "pca = PCA()\n",
    "\n",
    "components = pca.fit_transform(traces.T)\n",
    "scree1 = np.cumsum(pca.explained_variance_ratio_)\n",
    "\n",
    "pca.explained_variance_ratio_\n",
    "\n"
   ]
  },
  {
   "cell_type": "code",
   "execution_count": null,
   "metadata": {},
   "outputs": [],
   "source": [
    "\n",
    "\n",
    "sns.set_context('talk')\n",
    "f, ax = plt.subplots()\n",
    "\n",
    "lastv = np.where((scree1<0.76) & (scree1>0.75))[0][0]\n",
    "plt.axvline(x = lastv,ymin = 0, ymax=scree1[lastv], color = 'k', linewidth = 1, linestyle = '--', alpha = .7)\n",
    "plt.axhline( y= .75,xmin =0 ,  xmax =lastv/traces.shape[0],color = 'k', linewidth = 1, linestyle = '--', alpha = .7)\n",
    "\n",
    "sns.lineplot(y= scree1,x =  np.arange(start =1,stop =  traces.shape[0]+1))\n",
    "\n",
    "\n",
    "ax.set_title('Dimensionality of spontaneous activity', y = 1.05)\n",
    "ax.set_ylabel('Cumulative fraction\\nof variance explained')\n",
    "ax.set_xlabel('Number of components')\n",
    "\n",
    "ax.set_xlim([1,traces.shape[0]+1])\n",
    "ax.set_ylim([0,1])\n",
    "\n",
    "plt.savefig('PCA_allen.svg', bbox_inches = 'tight', transparent = False)"
   ]
  },
  {
   "cell_type": "code",
   "execution_count": null,
   "metadata": {},
   "outputs": [],
   "source": [
    "lastv"
   ]
  },
  {
   "cell_type": "code",
   "execution_count": null,
   "metadata": {},
   "outputs": [],
   "source": []
  },
  {
   "cell_type": "code",
   "execution_count": null,
   "metadata": {},
   "outputs": [],
   "source": [
    "bins = np.linspace(0,  18292, 31)\n",
    "idx = [[int(a),int(b)] for a, b in zip(bins[0:-1], bins[1:]) if spont[0][1] not in np.arange(a,b)]\n",
    "for i in idx:\n",
    "    print(i)"
   ]
  },
  {
   "cell_type": "code",
   "execution_count": null,
   "metadata": {},
   "outputs": [],
   "source": [
    "len(idx)\n"
   ]
  },
  {
   "cell_type": "code",
   "execution_count": null,
   "metadata": {},
   "outputs": [],
   "source": [
    "plt.hist(digitized[0,:])"
   ]
  },
  {
   "cell_type": "code",
   "execution_count": null,
   "metadata": {},
   "outputs": [],
   "source": [
    "f = plt.figure(figsize =(7,4), dpi = 600)\n",
    "traces.shape\n",
    "digitized = np.digitize(traces, bins)\n",
    "plt.imshow(digitized)\n",
    "# bin_means = [traces[:,digitized == i].mean() for i in range(1, len(bins))]\n",
    "# bin_means"
   ]
  },
  {
   "cell_type": "code",
   "execution_count": null,
   "metadata": {},
   "outputs": [],
   "source": [
    "dff_0 = traces[:,:-500].T\n",
    "dff_1 = traces[:,-501:].T\n",
    "eye_0 = pupil[:-500]\n",
    "eye_1 = pupil[-501:]\n",
    "train_dff, test_dff, train_pupil, test_pupil = train_test_split(dff_0, eye_0, random_state=42)"
   ]
  },
  {
   "cell_type": "code",
   "execution_count": null,
   "metadata": {},
   "outputs": [],
   "source": [
    "# dff_0 = traces[:,:-500].T\n",
    "# dff_1 = traces[:,-501:].T\n",
    "# eye_0 = pupil[:-500]\n",
    "# eye_1 = pupil[-501:]\n",
    "# poly = PolynomialFeatures(degree=3, include_bias=False)\n",
    "# poly_features = poly.fit_transform(dff_0)\n",
    "# train_dff, test_dff, train_pupil, test_pupil = train_test_split(poly_features, eye_0, random_state=42)"
   ]
  },
  {
   "cell_type": "code",
   "execution_count": null,
   "metadata": {},
   "outputs": [],
   "source": [
    "lr = LinearRegression()\n",
    "\n",
    "lr.fit(train_dff, train_pupil)"
   ]
  },
  {
   "cell_type": "code",
   "execution_count": null,
   "metadata": {},
   "outputs": [],
   "source": [
    "pupil_pred = lr.predict(dff_1)\n",
    "\n",
    "mean_squared_error(eye_0,pupil_pred)"
   ]
  },
  {
   "cell_type": "code",
   "execution_count": null,
   "metadata": {},
   "outputs": [],
   "source": [
    "r2_score(eye_1,pupil_pred)"
   ]
  },
  {
   "cell_type": "code",
   "execution_count": null,
   "metadata": {},
   "outputs": [],
   "source": [
    "plt.subplots(figsize = (12,6))\n",
    "plt.plot(eye_0)\n",
    "plt.plot(pupil_pred, alpha = .4)"
   ]
  },
  {
   "cell_type": "code",
   "execution_count": null,
   "metadata": {},
   "outputs": [],
   "source": [
    "r = Ridge(alpha=10, random_state = 42)\n",
    "\n",
    "r.fit(train_dff, train_pupil)\n",
    "pupil_pred = r.predict(dff_1)\n",
    "print(r.score(test_dff, test_pupil))\n",
    "plt.plot(eye_1)\n",
    "plt.plot(pupil_pred)"
   ]
  },
  {
   "cell_type": "code",
   "execution_count": null,
   "metadata": {},
   "outputs": [],
   "source": [
    "l = Lasso(random_state = 42)\n",
    "\n",
    "l.fit(train_dff, train_pupil)\n",
    "pupil_pred = l.predict(dff_1)\n",
    "l.score(test_dff, test_pupil)"
   ]
  },
  {
   "cell_type": "code",
   "execution_count": null,
   "metadata": {},
   "outputs": [],
   "source": [
    "plt.plot(eye_1)\n",
    "plt.plot(pupil_pred)"
   ]
  },
  {
   "cell_type": "code",
   "execution_count": null,
   "metadata": {},
   "outputs": [],
   "source": [
    "rf = RandomForestRegressor(n_estimators =300, random_state = 42, oob_score = True, n_jobs  =4, verbose = True)\n",
    "\n",
    "rf.fit(train_dff, train_pupil)\n",
    "pupil_pred = rf.predict(dff_1)\n",
    "print(rf.score(test_dff, test_pupil))\n",
    "\n",
    "plt.subplots(figsize =  (12, 4))\n",
    "plt.plot(eye_1 ,linewidth = 1, alpha = .99)\n",
    "plt.plot(pupil_pred, linewidth = 1, alpha = .4)\n",
    "plt.plot(pd.Series(pupil_pred).rolling(7).median() ,linewidth = 1, alpha = .6, color = 'r')"
   ]
  },
  {
   "cell_type": "code",
   "execution_count": null,
   "metadata": {},
   "outputs": [],
   "source": [
    "pupil_pred = rf.predict(dff_0)\n",
    "print(rf.score(test_dff, test_pupil))\n",
    "\n",
    "plt.subplots(figsize =  (12, 4))\n",
    "plt.plot(eye_0 ,linewidth = 1, alpha = .99)\n",
    "plt.plot(pupil_pred, linewidth = 1, alpha = .4)\n",
    "plt.plot(pd.Series(pupil_pred).rolling(7).median() ,linewidth = 1, alpha = .6, color = 'r')"
   ]
  },
  {
   "cell_type": "code",
   "execution_count": null,
   "metadata": {},
   "outputs": [],
   "source": [
    "r, p = spearmanr(components[:,0], new_pupil)\n",
    "\n",
    "\n",
    "r**2"
   ]
  },
  {
   "cell_type": "code",
   "execution_count": null,
   "metadata": {},
   "outputs": [],
   "source": [
    "p>0.05"
   ]
  },
  {
   "cell_type": "code",
   "execution_count": null,
   "metadata": {},
   "outputs": [],
   "source": [
    "eye_xpos = np.interp(ts, eye_sp.index.to_list(),  eye_sp['filtered_screen_coordinates_spherical_x_deg'])\n",
    "nans, x= nan_helper(eye_xpos)\n",
    "eye_xpos[nans]= np.interp(x(nans), x(~nans), eye_xpos[~nans])\n",
    "eye_xpos_1 = eye_xpos.copy()\n",
    "eye_xpos = pd.Series(eye_xpos).rolling(30, min_periods=1).median().values\n",
    "\n",
    "eye_xpos = zscore(eye_xpos, ddof=1, nan_policy = 'omit')\n",
    "eye_xpos_1 = zscore(eye_xpos_1, ddof=1, nan_policy = 'omit')"
   ]
  },
  {
   "cell_type": "code",
   "execution_count": null,
   "metadata": {},
   "outputs": [],
   "source": [
    "%matplotlib inline\n",
    "plt.figure(figsize= (12,4))\n",
    "plt.plot(ts, eye_xpos_1)\n",
    "plt.plot(ts, eye_xpos)"
   ]
  },
  {
   "cell_type": "code",
   "execution_count": null,
   "metadata": {},
   "outputs": [],
   "source": [
    "eyex_0 = eye_xpos_1[:-300]\n",
    "eyex_1 = eye_xpos_1[-300:]\n",
    "train_dff, test_dff, train_x, test_x = train_test_split(dff_0, eyex_0, random_state=42)"
   ]
  },
  {
   "cell_type": "code",
   "execution_count": null,
   "metadata": {},
   "outputs": [],
   "source": [
    "r = Ridge(alpha=1, random_state = 42)\n",
    "\n",
    "r.fit(train_dff, train_x)\n",
    "x_pred = r.predict(dff_1)\n",
    "print(r.score(test_dff, test_x))\n",
    "plt.plot(eyex_1)\n",
    "plt.plot(x_pred)"
   ]
  },
  {
   "cell_type": "code",
   "execution_count": null,
   "metadata": {},
   "outputs": [],
   "source": [
    "rf = RandomForestRegressor(n_estimators =400, random_state = 42, oob_score = True, n_jobs  =12, verbose = True)\n",
    "\n",
    "rf.fit(train_dff, train_x)\n",
    "x_pred = rf.predict(dff_1)\n",
    "rf.score(test_dff, test_x)\n",
    "\n",
    "plt.subplots(figsize =  (12, 4))\n",
    "plt.plot(eyex_1 ,linewidth = 1, alpha = .99)\n",
    "plt.plot(x_pred, linewidth = 1, alpha = .4)\n",
    "plt.plot(pd.Series(x_pred).rolling(7).median() ,linewidth = 1, alpha = .6, color = 'r')"
   ]
  },
  {
   "cell_type": "code",
   "execution_count": null,
   "metadata": {},
   "outputs": [],
   "source": [
    "speed = exp.get_running_speed()\n"
   ]
  },
  {
   "cell_type": "code",
   "execution_count": null,
   "metadata": {},
   "outputs": [],
   "source": [
    "abs_speed = zscore(np.abs(speed[0][spont[0]:spont[1]]), ddof = 1)\n",
    "plt.plot(abs_speed)\n",
    "r, p = spearmanr(components[:,0], abs_speed)\n"
   ]
  },
  {
   "cell_type": "code",
   "execution_count": null,
   "metadata": {},
   "outputs": [],
   "source": [
    "speed = speed[spont[0]:spont]"
   ]
  },
  {
   "cell_type": "code",
   "execution_count": null,
   "metadata": {},
   "outputs": [],
   "source": [
    "run_0 = abs_speed[:-300]\n",
    "run_1 = abs_speed[-300:]\n",
    "train_dff, test_dff, train_run, test_run = train_test_split(dff_0, run_0, random_state=42)"
   ]
  },
  {
   "cell_type": "code",
   "execution_count": null,
   "metadata": {},
   "outputs": [],
   "source": [
    "r = Ridge(alpha=15, random_state = 42)\n",
    "\n",
    "r.fit(train_dff, train_run)\n",
    "run_pred = r.predict(dff_1)\n",
    "print(r.score(test_dff, test_run))\n",
    "plt.plot(run_1)\n",
    "plt.plot(run_pred)"
   ]
  },
  {
   "cell_type": "code",
   "execution_count": null,
   "metadata": {},
   "outputs": [],
   "source": [
    "rf = RandomForestRegressor(n_estimators =400, random_state = 42, oob_score = True, n_jobs  =12, verbose = True)\n",
    "\n",
    "rf.fit(train_dff, train_run)\n",
    "run_pred = rf.predict(dff_1)\n",
    "rf.score(test_dff, test_run)\n",
    "\n",
    "plt.subplots(figsize =  (12, 4))\n",
    "plt.plot(run_1 ,linewidth = 1, alpha = .99)\n",
    "plt.plot(run_pred, linewidth = 1, alpha = .4)\n",
    "plt.plot(pd.Series(run_pred).rolling(7).median() ,linewidth = 1, alpha = .6, color = 'r')"
   ]
  },
  {
   "cell_type": "code",
   "execution_count": null,
   "metadata": {},
   "outputs": [],
   "source": [
    "id"
   ]
  },
  {
   "cell_type": "code",
   "execution_count": null,
   "metadata": {},
   "outputs": [],
   "source": [
    "dff[1].shape"
   ]
  },
  {
   "cell_type": "code",
   "execution_count": null,
   "metadata": {},
   "outputs": [],
   "source": [
    "events = boc.get_ophys_experiment_events(id)\n",
    "events.shape"
   ]
  },
  {
   "cell_type": "code",
   "execution_count": null,
   "metadata": {},
   "outputs": [],
   "source": [
    "exp.get_stimulus_epoch_table()"
   ]
  },
  {
   "cell_type": "code",
   "execution_count": null,
   "metadata": {},
   "outputs": [],
   "source": [
    "events_sp =[]\n",
    "for i in range(spont.shape[1]):\n",
    "    events_sp.append(events[:,spont[i,0] : spont[i,-1]])\n",
    "events_sp = np.hstack(events_sp)\n"
   ]
  },
  {
   "cell_type": "code",
   "execution_count": null,
   "metadata": {},
   "outputs": [],
   "source": [
    "import matplotlib.cm as cm\n",
    "\n",
    "cmap = cm.get_cmap('twilight')\n",
    "freq = ((events_sp>0).sum(axis = 1))/((ts_blocks[0][-1]-ts_blocks[0][0])+(ts_blocks[1][-1]-ts_blocks[1][0]))\n",
    "sns.histplot(freq, color=cmap(0.6), alpha = .8)\n",
    "\n",
    "plt.title('Frequency of spontaneous events')\n",
    "plt.xlabel('Frequency (events/s)')"
   ]
  },
  {
   "cell_type": "code",
   "execution_count": null,
   "metadata": {},
   "outputs": [],
   "source": [
    "\n",
    "amp = events_sp.sum(axis = 1) /np.count_nonzero(events_sp, axis =1)\n",
    "\n",
    "sns.histplot(amp, color=cmap(0.3), alpha = .8)\n",
    "\n",
    "plt.title('Amplitude of spontaneous events')\n",
    "plt.xlabel('Amplitude ($\\Delta$F/F)')"
   ]
  },
  {
   "cell_type": "code",
   "execution_count": null,
   "metadata": {},
   "outputs": [],
   "source": [
    "times = []\n",
    "blocks_idx = np.diff(spont)\n",
    "for i in range(events_sp.shape[0]):\n",
    "    tot_bool = events_sp[i,:]>0\n",
    "    bol1 = np.zeros(tot_bool.shape, dtype = bool)\n",
    "    bol1[:blocks_idx[0][0]] = tot_bool[:blocks_idx[0][0]]\n",
    "    bol2 = np.zeros(tot_bool.shape, dtype = bool)\n",
    "    bol2[blocks_idx[0][0]+1:] = tot_bool[blocks_idx[0][0]+1:]\n",
    "    times.append(ts[bol1])\n",
    "    times.append(ts[bol2])\n",
    "interv = [np.diff(t) for t in times]\n",
    "\n",
    "interv1 = np.hstack(interv)\n",
    "f, ax = plt.subplots(figsize=(7, 7))\n",
    "# ax.set(yscale=\"log\")\n",
    "# for intv in interv:\n",
    "#     plt.figure()\n",
    "sns.histplot(interv1, color=cmap(0.2), alpha = .9)\n",
    "\n",
    "plt.title('Inter-event interval')\n",
    "plt.xlabel('time (ms)')\n"
   ]
  },
  {
   "cell_type": "code",
   "execution_count": null,
   "metadata": {},
   "outputs": [],
   "source": [
    "bol2.sum()"
   ]
  },
  {
   "cell_type": "code",
   "execution_count": null,
   "metadata": {},
   "outputs": [],
   "source": [
    "a = boc.get_ophys_experiment_data(647155122)\n",
    "a.get_stimulus_epoch_table()\n",
    "f = a.get_dff_traces()[1][:,908:19468]\n",
    "e = boc.get_ophys_experiment_events(647155122)[:,908:19468]"
   ]
  },
  {
   "cell_type": "code",
   "execution_count": null,
   "metadata": {},
   "outputs": [],
   "source": [
    "# e = boc.get_ophys_experiment_events(647155122)\n",
    "e"
   ]
  },
  {
   "cell_type": "code",
   "execution_count": null,
   "metadata": {},
   "outputs": [],
   "source": [
    "plt.figure(figsize=(16,3))\n",
    "\n",
    "plt.plot(e[11,1000:1800]-0.1)\n",
    "plt.plot(e[0,1000:1800]-0.1)\n",
    "plt.plot(zscore(f[11,1000:1800]))"
   ]
  },
  {
   "cell_type": "code",
   "execution_count": null,
   "metadata": {},
   "outputs": [],
   "source": [
    "b = boc.get_ophys_experiment_analysis(647155122, 'drifting_gratings')"
   ]
  },
  {
   "cell_type": "code",
   "execution_count": null,
   "metadata": {},
   "outputs": [],
   "source": [
    "\n",
    "boc.get_ophys_experiment_stimuli(exp_ids[2])\n",
    "exp2 = boc.get_ophys_experiment_data(exp_ids[2])\n",
    "exp2.get_stimulus_epoch_table()"
   ]
  }
 ],
 "metadata": {
  "kernelspec": {
   "display_name": "Python 3.7.0 ('AllenInstituteDatasets')",
   "language": "python",
   "name": "python3"
  },
  "language_info": {
   "codemirror_mode": {
    "name": "ipython",
    "version": 3
   },
   "file_extension": ".py",
   "mimetype": "text/x-python",
   "name": "python",
   "nbconvert_exporter": "python",
   "pygments_lexer": "ipython3",
   "version": "3.7.0"
  },
  "orig_nbformat": 4,
  "vscode": {
   "interpreter": {
    "hash": "b5f77b02df432020b9e37290caad44c28a5894923980d9870989c76e7a30b517"
   }
  }
 },
 "nbformat": 4,
 "nbformat_minor": 2
}
